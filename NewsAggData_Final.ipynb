{
 "cells": [
  {
   "cell_type": "code",
   "execution_count": 1,
   "metadata": {
    "colab": {
     "base_uri": "https://localhost:8080/",
     "height": 35
    },
    "colab_type": "code",
    "id": "9YTHZbCoWg5y",
    "outputId": "cd456a02-16f6-43cf-c320-d63b40c7aa23"
   },
   "outputs": [
    {
     "name": "stderr",
     "output_type": "stream",
     "text": [
      "Using TensorFlow backend.\n"
     ]
    }
   ],
   "source": [
    "import numpy as np # linear algebra\n",
    "import pandas as pd # data processing, CSV file I/O (e.g. pd.read_csv)\n",
    "from keras.layers import Dense, Embedding, LSTM, SpatialDropout1D\n",
    "from keras.models import Sequential\n",
    "from keras.preprocessing.text import one_hot\n",
    "from keras.utils import to_categorical\n",
    "from sklearn.feature_extraction.text import CountVectorizer\n",
    "from keras.preprocessing.text import Tokenizer\n",
    "from keras.preprocessing.sequence import pad_sequences\n",
    "from sklearn.model_selection import train_test_split\n",
    "from keras.utils.np_utils import to_categorical\n",
    "from keras.callbacks import EarlyStopping\n",
    "from sklearn.feature_extraction.text import CountVectorizer\n",
    "from sklearn.preprocessing import LabelEncoder"
   ]
  },
  {
   "cell_type": "code",
   "execution_count": 2,
   "metadata": {
    "colab": {
     "base_uri": "https://localhost:8080/",
     "height": 124
    },
    "colab_type": "code",
    "id": "5bzv01k8W2H_",
    "outputId": "c2b772a1-d803-4864-9ad3-0434b7cd2f7b"
   },
   "outputs": [
    {
     "name": "stdout",
     "output_type": "stream",
     "text": [
      "Go to this URL in a browser: https://accounts.google.com/o/oauth2/auth?client_id=947318989803-6bn6qk8qdgf4n4g3pfee6491hc0brc4i.apps.googleusercontent.com&redirect_uri=urn%3Aietf%3Awg%3Aoauth%3A2.0%3Aoob&scope=email%20https%3A%2F%2Fwww.googleapis.com%2Fauth%2Fdocs.test%20https%3A%2F%2Fwww.googleapis.com%2Fauth%2Fdrive%20https%3A%2F%2Fwww.googleapis.com%2Fauth%2Fdrive.photos.readonly%20https%3A%2F%2Fwww.googleapis.com%2Fauth%2Fpeopleapi.readonly&response_type=code\n",
      "\n",
      "Enter your authorization code:\n",
      "··········\n",
      "Mounted at /content/drive\n"
     ]
    }
   ],
   "source": [
    "from google.colab import drive\n",
    "drive.mount('/content/drive')"
   ]
  },
  {
   "cell_type": "code",
   "execution_count": 3,
   "metadata": {
    "colab": {
     "base_uri": "https://localhost:8080/",
     "height": 345
    },
    "colab_type": "code",
    "id": "JtJgFJm1cLXW",
    "outputId": "e52f8c36-ee92-40eb-838b-961881ab3a34"
   },
   "outputs": [
    {
     "data": {
      "text/plain": [
       "['ErensCopy.ipynb',\n",
       " 'uci-news-aggregator.csv',\n",
       " \"Juhi'sCopy.ipynb\",\n",
       " 'glove.6B.zip',\n",
       " \"Elif'sCopy.ipynb\",\n",
       " 'news-category-dataset.zip',\n",
       " 'News_Category_Dataset_v2.json',\n",
       " 'glove.6B.50d.txt',\n",
       " 'glove.6B.100d.txt',\n",
       " 'Results.gdoc',\n",
       " 'glove.6B.100d.txt.word2vec',\n",
       " 'Copy of NewData ErensCopy.ipynb',\n",
       " 'Notes for DL Project.gdoc',\n",
       " 'Validation Accuracy 5-Fold CV.png',\n",
       " 'Validation Loss 5-Fold CV.png',\n",
       " 'Validation Loss 5-Fold CV New Data.png',\n",
       " 'Validation Accuracy 5-Fold CV New Data.png',\n",
       " 'NewData ErensCopy.ipynb',\n",
       " 'DL Project Report.gdoc']"
      ]
     },
     "execution_count": 3,
     "metadata": {
      "tags": []
     },
     "output_type": "execute_result"
    }
   ],
   "source": [
    "import os\n",
    "os.chdir('/content/drive/My Drive/DL Project')\n",
    "os.getcwd()\n",
    "os.listdir()"
   ]
  },
  {
   "cell_type": "markdown",
   "metadata": {},
   "source": [
    "**Import Dataset**"
   ]
  },
  {
   "cell_type": "code",
   "execution_count": 0,
   "metadata": {
    "colab": {},
    "colab_type": "code",
    "collapsed": true,
    "id": "r9yvYjNYXrxY"
   },
   "outputs": [],
   "source": [
    "df = pd.read_csv('uci-news-aggregator.csv', usecols=['TITLE', 'CATEGORY'])"
   ]
  },
  {
   "cell_type": "code",
   "execution_count": 0,
   "metadata": {
    "colab": {
     "base_uri": "https://localhost:8080/",
     "height": 104
    },
    "colab_type": "code",
    "id": "5hLgbEqzYQEJ",
    "outputId": "3349896d-46c0-4d26-992c-96fa0f3edb90"
   },
   "outputs": [
    {
     "data": {
      "text/plain": [
       "e    152469\n",
       "b    115967\n",
       "t    108344\n",
       "m     45639\n",
       "Name: CATEGORY, dtype: int64"
      ]
     },
     "execution_count": 44,
     "metadata": {
      "tags": []
     },
     "output_type": "execute_result"
    }
   ],
   "source": [
    "df.CATEGORY.value_counts()"
   ]
  },
  {
   "cell_type": "markdown",
   "metadata": {},
   "source": [
    "**Preprocessing**"
   ]
  },
  {
   "cell_type": "code",
   "execution_count": 0,
   "metadata": {
    "colab": {},
    "colab_type": "code",
    "collapsed": true,
    "id": "TMoRpmQxYjAh"
   },
   "outputs": [],
   "source": [
    "#Preprocessing taken from Kaggle https://www.kaggle.com/ngyptr/multi-class-classification-with-lstm\n",
    "#Balancing classes\n",
    "num_of_categories = 45639 #number of m classes\n",
    "shuffled = df.reindex(np.random.permutation(df.index))\n",
    "e = shuffled[shuffled['CATEGORY'] == 'e'][:num_of_categories]\n",
    "b = shuffled[shuffled['CATEGORY'] == 'b'][:num_of_categories]\n",
    "t = shuffled[shuffled['CATEGORY'] == 't'][:num_of_categories]\n",
    "m = shuffled[shuffled['CATEGORY'] == 'm'][:num_of_categories]\n",
    "concated = pd.concat([e,b,t,m], ignore_index=True)\n",
    "#Shuffle the dataset\n",
    "concated = concated.reindex(np.random.permutation(concated.index))\n",
    "concated['LABEL'] = 0"
   ]
  },
  {
   "cell_type": "code",
   "execution_count": 0,
   "metadata": {
    "colab": {
     "base_uri": "https://localhost:8080/",
     "height": 198
    },
    "colab_type": "code",
    "id": "xAdbGZDNZ6zU",
    "outputId": "2240646d-08c7-44e8-c40e-2bb64719aefd"
   },
   "outputs": [
    {
     "data": {
      "text/html": [
       "<div>\n",
       "<style scoped>\n",
       "    .dataframe tbody tr th:only-of-type {\n",
       "        vertical-align: middle;\n",
       "    }\n",
       "\n",
       "    .dataframe tbody tr th {\n",
       "        vertical-align: top;\n",
       "    }\n",
       "\n",
       "    .dataframe thead th {\n",
       "        text-align: right;\n",
       "    }\n",
       "</style>\n",
       "<table border=\"1\" class=\"dataframe\">\n",
       "  <thead>\n",
       "    <tr style=\"text-align: right;\">\n",
       "      <th></th>\n",
       "      <th>TITLE</th>\n",
       "      <th>CATEGORY</th>\n",
       "      <th>LABEL</th>\n",
       "    </tr>\n",
       "  </thead>\n",
       "  <tbody>\n",
       "    <tr>\n",
       "      <th>58271</th>\n",
       "      <td>Citi looks perfectly priced – for more mediocrity</td>\n",
       "      <td>b</td>\n",
       "      <td>0</td>\n",
       "    </tr>\n",
       "    <tr>\n",
       "      <th>16344</th>\n",
       "      <td>Buddy-action enough for '22 Jump Street,' but ...</td>\n",
       "      <td>e</td>\n",
       "      <td>0</td>\n",
       "    </tr>\n",
       "    <tr>\n",
       "      <th>74854</th>\n",
       "      <td>Japan overhauls its public pension fund</td>\n",
       "      <td>b</td>\n",
       "      <td>0</td>\n",
       "    </tr>\n",
       "    <tr>\n",
       "      <th>136469</th>\n",
       "      <td>Computer Used to Create Internet on Display fo...</td>\n",
       "      <td>t</td>\n",
       "      <td>0</td>\n",
       "    </tr>\n",
       "    <tr>\n",
       "      <th>94639</th>\n",
       "      <td>Facebook updates Paper to v1.1, No Android app...</td>\n",
       "      <td>t</td>\n",
       "      <td>0</td>\n",
       "    </tr>\n",
       "  </tbody>\n",
       "</table>\n",
       "</div>"
      ],
      "text/plain": [
       "                                                    TITLE CATEGORY  LABEL\n",
       "58271   Citi looks perfectly priced – for more mediocrity        b      0\n",
       "16344   Buddy-action enough for '22 Jump Street,' but ...        e      0\n",
       "74854             Japan overhauls its public pension fund        b      0\n",
       "136469  Computer Used to Create Internet on Display fo...        t      0\n",
       "94639   Facebook updates Paper to v1.1, No Android app...        t      0"
      ]
     },
     "execution_count": 388,
     "metadata": {
      "tags": []
     },
     "output_type": "execute_result"
    }
   ],
   "source": [
    "concated.head()"
   ]
  },
  {
   "cell_type": "code",
   "execution_count": 0,
   "metadata": {
    "colab": {
     "base_uri": "https://localhost:8080/",
     "height": 198
    },
    "colab_type": "code",
    "id": "ZV11mP2WaDIV",
    "outputId": "81667c20-4f61-4608-b8d9-1c86752b83a5"
   },
   "outputs": [
    {
     "data": {
      "text/html": [
       "<div>\n",
       "<style scoped>\n",
       "    .dataframe tbody tr th:only-of-type {\n",
       "        vertical-align: middle;\n",
       "    }\n",
       "\n",
       "    .dataframe tbody tr th {\n",
       "        vertical-align: top;\n",
       "    }\n",
       "\n",
       "    .dataframe thead th {\n",
       "        text-align: right;\n",
       "    }\n",
       "</style>\n",
       "<table border=\"1\" class=\"dataframe\">\n",
       "  <thead>\n",
       "    <tr style=\"text-align: right;\">\n",
       "      <th></th>\n",
       "      <th>TITLE</th>\n",
       "      <th>CATEGORY</th>\n",
       "      <th>LABEL</th>\n",
       "    </tr>\n",
       "  </thead>\n",
       "  <tbody>\n",
       "    <tr>\n",
       "      <th>58271</th>\n",
       "      <td>Citi looks perfectly priced – for more mediocrity</td>\n",
       "      <td>b</td>\n",
       "      <td>1</td>\n",
       "    </tr>\n",
       "    <tr>\n",
       "      <th>16344</th>\n",
       "      <td>Buddy-action enough for '22 Jump Street,' but ...</td>\n",
       "      <td>e</td>\n",
       "      <td>0</td>\n",
       "    </tr>\n",
       "    <tr>\n",
       "      <th>74854</th>\n",
       "      <td>Japan overhauls its public pension fund</td>\n",
       "      <td>b</td>\n",
       "      <td>1</td>\n",
       "    </tr>\n",
       "    <tr>\n",
       "      <th>136469</th>\n",
       "      <td>Computer Used to Create Internet on Display fo...</td>\n",
       "      <td>t</td>\n",
       "      <td>2</td>\n",
       "    </tr>\n",
       "    <tr>\n",
       "      <th>94639</th>\n",
       "      <td>Facebook updates Paper to v1.1, No Android app...</td>\n",
       "      <td>t</td>\n",
       "      <td>2</td>\n",
       "    </tr>\n",
       "  </tbody>\n",
       "</table>\n",
       "</div>"
      ],
      "text/plain": [
       "                                                    TITLE CATEGORY  LABEL\n",
       "58271   Citi looks perfectly priced – for more mediocrity        b      1\n",
       "16344   Buddy-action enough for '22 Jump Street,' but ...        e      0\n",
       "74854             Japan overhauls its public pension fund        b      1\n",
       "136469  Computer Used to Create Internet on Display fo...        t      2\n",
       "94639   Facebook updates Paper to v1.1, No Android app...        t      2"
      ]
     },
     "execution_count": 389,
     "metadata": {
      "tags": []
     },
     "output_type": "execute_result"
    }
   ],
   "source": [
    "#One-hot encode the lab\n",
    "concated.loc[concated['CATEGORY'] == 'e', 'LABEL'] = 0\n",
    "concated.loc[concated['CATEGORY'] == 'b', 'LABEL'] = 1\n",
    "concated.loc[concated['CATEGORY'] == 't', 'LABEL'] = 2\n",
    "concated.loc[concated['CATEGORY'] == 'm', 'LABEL'] = 3\n",
    "\n",
    "if 'CATEGORY' in concated.keys():\n",
    "    concated.drop(['CATEGORY'], axis=1)\n",
    "\n",
    "concated.head()\n"
   ]
  },
  {
   "cell_type": "code",
   "execution_count": 0,
   "metadata": {
    "colab": {},
    "colab_type": "code",
    "collapsed": true,
    "id": "Um0XEYSymbnK"
   },
   "outputs": [],
   "source": [
    "concated=df"
   ]
  },
  {
   "cell_type": "code",
   "execution_count": 0,
   "metadata": {
    "colab": {},
    "colab_type": "code",
    "collapsed": true,
    "id": "QHpIQk8BoIjT"
   },
   "outputs": [],
   "source": [
    "to_drop = []\n",
    "titles = concated['TITLE'].values\n",
    "for i in range(len(titles)):\n",
    "  if \"http\" in titles[i]:\n",
    "    to_drop.append(i)"
   ]
  },
  {
   "cell_type": "code",
   "execution_count": 0,
   "metadata": {
    "colab": {},
    "colab_type": "code",
    "collapsed": true,
    "id": "F-w8gasMmuDI"
   },
   "outputs": [],
   "source": [
    "data = concated.reset_index()\n",
    "data = data.drop('index', axis=1)\n",
    "data = data.drop(to_drop)"
   ]
  },
  {
   "cell_type": "code",
   "execution_count": 0,
   "metadata": {
    "colab": {},
    "colab_type": "code",
    "collapsed": true,
    "id": "JIM2-aiJML-7"
   },
   "outputs": [],
   "source": [
    "#labels = to_categorical(data['LABEL'], num_classes=4)\n",
    "#do this instead of above\n",
    "encoder = LabelEncoder()\n",
    "labels = to_categorical(encoder.fit_transform(data['CATEGORY']), num_classes=4)"
   ]
  },
  {
   "cell_type": "code",
   "execution_count": 0,
   "metadata": {
    "colab": {},
    "colab_type": "code",
    "collapsed": true,
    "id": "tmFO2_pucp4q"
   },
   "outputs": [],
   "source": [
    "#we can remove the uncommon words\n",
    "vocab_size= 50000\n",
    "t = Tokenizer(num_words=vocab_size, filters='!\"#$%&()*+,-./:;<=>?@[\\]^_`{|}~–')\n",
    "t.fit_on_texts(data['TITLE'].values)"
   ]
  },
  {
   "cell_type": "code",
   "execution_count": 10,
   "metadata": {
    "colab": {
     "base_uri": "https://localhost:8080/",
     "height": 35
    },
    "colab_type": "code",
    "id": "l0RLXT4AdvfE",
    "outputId": "69ce4166-b03c-4c6d-ead8-8caa4cb4e8d3"
   },
   "outputs": [
    {
     "data": {
      "text/plain": [
       "73323"
      ]
     },
     "execution_count": 10,
     "metadata": {
      "tags": []
     },
     "output_type": "execute_result"
    }
   ],
   "source": [
    "len(t.word_index)"
   ]
  },
  {
   "cell_type": "code",
   "execution_count": 0,
   "metadata": {
    "colab": {},
    "colab_type": "code",
    "collapsed": true,
    "id": "mbBDmkDifP4Y"
   },
   "outputs": [],
   "source": [
    "sequences = t.texts_to_sequences(data['TITLE'].values)"
   ]
  },
  {
   "cell_type": "code",
   "execution_count": 12,
   "metadata": {
    "colab": {
     "base_uri": "https://localhost:8080/",
     "height": 52
    },
    "colab_type": "code",
    "id": "CuAWHz6QkAbX",
    "outputId": "3296a2de-5fa4-4fb8-f1b5-de6d7e4104c3"
   },
   "outputs": [
    {
     "name": "stdout",
     "output_type": "stream",
     "text": [
      "19\n",
      "1312\n"
     ]
    }
   ],
   "source": [
    "current_max = 0\n",
    "max_index = 0\n",
    "for i in range(len(sequences)):\n",
    "  m = len(sequences[i])\n",
    "  if m > current_max:\n",
    "    current_max=m\n",
    "    max_index = i\n",
    "print(current_max)\n",
    "print(max_index)\n",
    "    "
   ]
  },
  {
   "cell_type": "code",
   "execution_count": 0,
   "metadata": {
    "colab": {},
    "colab_type": "code",
    "collapsed": true,
    "id": "7OL0boautZyi"
   },
   "outputs": [],
   "source": [
    "X = pad_sequences(sequences)"
   ]
  },
  {
   "cell_type": "code",
   "execution_count": 14,
   "metadata": {
    "colab": {
     "base_uri": "https://localhost:8080/",
     "height": 35
    },
    "colab_type": "code",
    "id": "iOwygNVavTWr",
    "outputId": "4bd8ea1d-7b28-4a29-865a-6d3647fd48ec"
   },
   "outputs": [
    {
     "data": {
      "text/plain": [
       "(422398, 422398)"
      ]
     },
     "execution_count": 14,
     "metadata": {
      "tags": []
     },
     "output_type": "execute_result"
    }
   ],
   "source": [
    "len(X), len(labels)"
   ]
  },
  {
   "cell_type": "code",
   "execution_count": 0,
   "metadata": {
    "colab": {},
    "colab_type": "code",
    "collapsed": true,
    "id": "sVDEKZZUvMux"
   },
   "outputs": [],
   "source": [
    "X_train, X_test, y_train, y_test = train_test_split(X, labels, test_size=0.25, random_state=42)"
   ]
  },
  {
   "cell_type": "code",
   "execution_count": 0,
   "metadata": {
    "colab": {
     "base_uri": "https://localhost:8080/",
     "height": 35
    },
    "colab_type": "code",
    "id": "ksXnigjuvP3J",
    "outputId": "d6fb67cf-0286-4217-d851-0e8acdce7455"
   },
   "outputs": [
    {
     "data": {
      "text/plain": [
       "(316798, 19)"
      ]
     },
     "execution_count": 56,
     "metadata": {
      "tags": []
     },
     "output_type": "execute_result"
    }
   ],
   "source": [
    "X_train.shape"
   ]
  },
  {
   "cell_type": "markdown",
   "metadata": {
    "colab_type": "text",
    "id": "ovPlzm1qyRo6"
   },
   "source": [
    "**Models**"
   ]
  },
  {
   "cell_type": "code",
   "execution_count": 0,
   "metadata": {
    "colab": {},
    "colab_type": "code",
    "collapsed": true,
    "id": "03b7A1DEx20e"
   },
   "outputs": [],
   "source": [
    "from keras.models import Sequential\n",
    "from keras.layers import Dense, Dropout\n",
    "from keras.layers import Embedding, Activation, Flatten\n",
    "from keras.layers import Conv1D, GlobalAveragePooling1D, GlobalMaxPooling1D, MaxPooling1D\n",
    "from sklearn.model_selection import StratifiedKFold\n",
    "import matplotlib.pyplot as plt"
   ]
  },
  {
   "cell_type": "code",
   "execution_count": 0,
   "metadata": {
    "colab": {},
    "colab_type": "code",
    "collapsed": true,
    "id": "n1tOVsOAEE7-"
   },
   "outputs": [],
   "source": [
    "kfold = StratifiedKFold(n_splits=5, shuffle=True, random_state=42)\n",
    "Y_reg = data['CATEGORY']"
   ]
  },
  {
   "cell_type": "markdown",
   "metadata": {},
   "source": [
    "**LSTM w/ cross validation**"
   ]
  },
  {
   "cell_type": "code",
   "execution_count": 0,
   "metadata": {
    "colab": {},
    "colab_type": "code",
    "collapsed": true,
    "id": "lEqeW1Cc2Z-G"
   },
   "outputs": [],
   "source": [
    "#cross validation -- beware lasts long\n",
    "cvscores = []\n",
    "loss_vals = []\n",
    "val_accs = []\n",
    "for train, test in kfold.split(X, Y_reg):\n",
    "  #Turn labels into categorical after the split\n",
    "  encoder = LabelEncoder()\n",
    "  Y = to_categorical(encoder.fit_transform(Y_reg), num_classes=4)\n",
    "  #define the model\n",
    "  model = Sequential()\n",
    "  model.add(Embedding(vocab_size, output_dim=100, input_length=X.shape[1]))\n",
    "  model.add(LSTM(100, dropout=0.5, recurrent_dropout=0.5))\n",
    "  model.add(Dense(4, activation='softmax'))\n",
    "  model.compile(loss='categorical_crossentropy', optimizer='adam', metrics=['accuracy'])\n",
    "  \n",
    "  #fit the model\n",
    "  history = model.fit(X[train], Y[train], validation_data=(X[test], Y[test]), epochs=5, batch_size=128)\n",
    "  #predict\n",
    "  score = model.evaluate(X[test], Y[test], verbose=0)\n",
    "  #store values\n",
    "  loss_vals.append(history.history['val_loss'])\n",
    "  val_accs.append(history.history['val_acc'])\n",
    "  cvscores.append(scores[1])\n",
    "model.summary()"
   ]
  },
  {
   "cell_type": "code",
   "execution_count": 0,
   "metadata": {
    "colab": {
     "base_uri": "https://localhost:8080/",
     "height": 469
    },
    "colab_type": "code",
    "id": "GIrI28aBEIuA",
    "outputId": "e4f9dad4-f9b7-4b04-f898-1beac14c0f47"
   },
   "outputs": [
    {
     "name": "stdout",
     "output_type": "stream",
     "text": [
      "_________________________________________________________________\n",
      "Layer (type)                 Output Shape              Param #   \n",
      "=================================================================\n",
      "embedding_2 (Embedding)      (None, 19, 100)           5000000   \n",
      "_________________________________________________________________\n",
      "lstm_2 (LSTM)                (None, 100)               80400     \n",
      "_________________________________________________________________\n",
      "dense_2 (Dense)              (None, 4)                 404       \n",
      "=================================================================\n",
      "Total params: 5,080,804\n",
      "Trainable params: 5,080,804\n",
      "Non-trainable params: 0\n",
      "_________________________________________________________________\n",
      "Train on 316798 samples, validate on 105600 samples\n",
      "Epoch 1/5\n",
      "316798/316798 [==============================] - 225s 710us/step - loss: 0.2628 - acc: 0.9063 - val_loss: 0.1586 - val_acc: 0.9455\n",
      "Epoch 2/5\n",
      "316798/316798 [==============================] - 226s 712us/step - loss: 0.1380 - acc: 0.9522 - val_loss: 0.1534 - val_acc: 0.9484\n",
      "Epoch 3/5\n",
      "316798/316798 [==============================] - 218s 689us/step - loss: 0.1140 - acc: 0.9600 - val_loss: 0.1494 - val_acc: 0.9493\n",
      "Epoch 4/5\n",
      "316798/316798 [==============================] - 221s 698us/step - loss: 0.0990 - acc: 0.9647 - val_loss: 0.1495 - val_acc: 0.9505\n",
      "Epoch 5/5\n",
      "316798/316798 [==============================] - 223s 704us/step - loss: 0.0871 - acc: 0.9685 - val_loss: 0.1552 - val_acc: 0.9497\n",
      "105600/105600 [==============================] - 94s 892us/step\n"
     ]
    }
   ],
   "source": [
    "#define the model\n",
    "model = Sequential()\n",
    "model.add(Embedding(vocab_size, output_dim=100, input_length=X.shape[1]))\n",
    "model.add(LSTM(100, dropout=0.5, recurrent_dropout=0.5))\n",
    "model.add(Dense(4, activation='softmax'))\n",
    "model.compile(loss='categorical_crossentropy', optimizer='adam', metrics=['accuracy'])\n",
    "model.summary()\n",
    "#fit\n",
    "history = model.fit(X_train, y_train, validation_data=(X_test, y_test), epochs=5, batch_size=128)\n",
    "#predict\n"
   ]
  },
  {
   "cell_type": "code",
   "execution_count": 0,
   "metadata": {
    "colab": {
     "base_uri": "https://localhost:8080/",
     "height": 376
    },
    "colab_type": "code",
    "id": "esZZ9f3l9rdI",
    "outputId": "d1ae690e-7a6f-4aad-aace-a0ab71e913d2"
   },
   "outputs": [
    {
     "data": {
      "image/png": "[encoded data removed]",
      "text/plain": [
       "<matplotlib.figure.Figure at 0x7f0ae97b79e8>"
      ]
     },
     "metadata": {
      "tags": []
     },
     "output_type": "display_data"
    }
   ],
   "source": [
    "# summarize history for accuracy\n",
    "plt.plot(history.history['acc'])\n",
    "plt.plot(history.history['val_acc'])\n",
    "plt.title('model accuracy')\n",
    "plt.ylabel('accuracy')\n",
    "plt.xlabel('epoch')\n",
    "plt.legend(['train', 'test'], loc='upper left')\n",
    "plt.show()"
   ]
  },
  {
   "cell_type": "code",
   "execution_count": 0,
   "metadata": {
    "colab": {
     "base_uri": "https://localhost:8080/",
     "height": 376
    },
    "colab_type": "code",
    "id": "NsxFEjng9IJ_",
    "outputId": "d5de59e6-e7ea-4e2f-b570-e747823ebaec"
   },
   "outputs": [
    {
     "data": {
      "image/png": "[encoded data removed]",
      "text/plain": [
       "<matplotlib.figure.Figure at 0x7f0ae8744518>"
      ]
     },
     "metadata": {
      "tags": []
     },
     "output_type": "display_data"
    }
   ],
   "source": [
    "# summarize history for loss\n",
    "plt.plot(history.history['loss'])\n",
    "plt.plot(history.history['val_loss'])\n",
    "plt.title('model loss')\n",
    "plt.ylabel('loss')\n",
    "plt.xlabel('epoch')\n",
    "plt.legend(['train', 'test'], loc='upper left')\n",
    "plt.show()"
   ]
  },
  {
   "cell_type": "code",
   "execution_count": 0,
   "metadata": {
    "colab": {
     "base_uri": "https://localhost:8080/",
     "height": 52
    },
    "colab_type": "code",
    "id": "yhoFbjthLBHw",
    "outputId": "7823a557-ac8f-4fe2-c1d6-52975d2c322f"
   },
   "outputs": [
    {
     "name": "stdout",
     "output_type": "stream",
     "text": [
      "[0.15859352911512056, 0.15335268914699554, 0.14943012169364728, 0.14954469836571, 0.15515696221228803]\n",
      "[0.9454640151515151, 0.9483522727272727, 0.9493276515151515, 0.9504545454545454, 0.9496969696969697]\n"
     ]
    }
   ],
   "source": [
    "print(history.history['val_loss'])\n",
    "print(history.history['val_acc'])"
   ]
  },
  {
   "cell_type": "markdown",
   "metadata": {},
   "source": [
    "**Single Convolution Model**"
   ]
  },
  {
   "cell_type": "code",
   "execution_count": 0,
   "metadata": {
    "colab": {
     "base_uri": "https://localhost:8080/",
     "height": 1377
    },
    "colab_type": "code",
    "id": "_hsPOc9dy1Uk",
    "outputId": "23b56e9c-8a8d-498a-b4c6-9db2755b88e0"
   },
   "outputs": [
    {
     "name": "stdout",
     "output_type": "stream",
     "text": [
      "_________________________________________________________________\n",
      "Layer (type)                 Output Shape              Param #   \n",
      "=================================================================\n",
      "embedding_4 (Embedding)      (None, 19, 128)           6400000   \n",
      "_________________________________________________________________\n",
      "conv1d_2 (Conv1D)            (None, 17, 128)           49280     \n",
      "_________________________________________________________________\n",
      "global_max_pooling1d_2 (Glob (None, 128)               0         \n",
      "_________________________________________________________________\n",
      "dropout_3 (Dropout)          (None, 128)               0         \n",
      "_________________________________________________________________\n",
      "dense_5 (Dense)              (None, 128)               16512     \n",
      "_________________________________________________________________\n",
      "dropout_4 (Dropout)          (None, 128)               0         \n",
      "_________________________________________________________________\n",
      "activation_3 (Activation)    (None, 128)               0         \n",
      "_________________________________________________________________\n",
      "dense_6 (Dense)              (None, 4)                 516       \n",
      "_________________________________________________________________\n",
      "activation_4 (Activation)    (None, 4)                 0         \n",
      "=================================================================\n",
      "Total params: 6,466,308\n",
      "Trainable params: 6,466,308\n",
      "Non-trainable params: 0\n",
      "_________________________________________________________________\n",
      "Train on 337917 samples, validate on 84481 samples\n",
      "Epoch 1/5\n",
      "337917/337917 [==============================] - 44s 131us/step - loss: 0.2701 - acc: 0.9043 - val_loss: 0.1573 - val_acc: 0.9451\n",
      "Epoch 2/5\n",
      "337917/337917 [==============================] - 42s 125us/step - loss: 0.1345 - acc: 0.9551 - val_loss: 0.1515 - val_acc: 0.9481\n",
      "Epoch 3/5\n",
      "337917/337917 [==============================] - 42s 124us/step - loss: 0.1029 - acc: 0.9641 - val_loss: 0.1557 - val_acc: 0.9480\n",
      "Epoch 4/5\n",
      "337917/337917 [==============================] - 42s 124us/step - loss: 0.0853 - acc: 0.9701 - val_loss: 0.1665 - val_acc: 0.9491\n",
      "Epoch 5/5\n",
      "337917/337917 [==============================] - 42s 124us/step - loss: 0.0726 - acc: 0.9738 - val_loss: 0.1795 - val_acc: 0.9493\n"
     ]
    },
    {
     "data": {
      "image/png": "[encoded data removed]",
      "text/plain": [
       "<matplotlib.figure.Figure at 0x7f0af7c6f0b8>"
      ]
     },
     "metadata": {
      "tags": []
     },
     "output_type": "display_data"
    },
    {
     "data": {
      "image/png": "[encoded data removed]",
      "text/plain": [
       "<matplotlib.figure.Figure at 0x7f0af7e42e80>"
      ]
     },
     "metadata": {
      "tags": []
     },
     "output_type": "display_data"
    }
   ],
   "source": [
    "#Single Convolution Model\n",
    "\n",
    "model = Sequential()\n",
    "\n",
    "model.add(Embedding(vocab_size, 128, input_length=X.shape[1]))\n",
    "model.add(Conv1D(128,3,padding='valid',activation='relu',strides=1))\n",
    "model.add(GlobalMaxPooling1D())\n",
    "model.add(Dropout(0.5))\n",
    "model.add(Dense(128))\n",
    "model.add(Dropout(0.5))\n",
    "model.add(Activation('relu'))\n",
    "model.add(Dense(4))\n",
    "model.add(Activation('softmax'))\n",
    "model.compile(loss='categorical_crossentropy',optimizer='adam',metrics=['acc'])\n",
    "model.summary()\n",
    "\n",
    "#fit the model\n",
    "history_Single_CNN = model.fit(X[train], Y[train], validation_data=(X[test], Y[test]), epochs=5, batch_size=128)\n",
    "#predict\n",
    "score_Single_CNN = model.evaluate(X[test], Y[test], verbose=0)\n",
    "\n",
    "# summarize history for accuracy\n",
    "plt.plot(history_Single_CNN.history['acc'])\n",
    "plt.plot(history_Single_CNN.history['val_acc'])\n",
    "plt.title('model accuracy')\n",
    "plt.ylabel('accuracy')\n",
    "plt.xlabel('epoch')\n",
    "plt.legend(['train', 'test'], loc='upper left')\n",
    "plt.show()\n",
    "\n",
    "# summarize history for loss\n",
    "plt.plot(history_Single_CNN.history['loss'])\n",
    "plt.plot(history_Single_CNN.history['val_loss'])\n",
    "plt.title('model loss')\n",
    "plt.ylabel('loss')\n",
    "plt.xlabel('epoch')\n",
    "plt.legend(['train', 'test'], loc='upper left')\n",
    "plt.show()"
   ]
  },
  {
   "cell_type": "code",
   "execution_count": 0,
   "metadata": {
    "colab": {
     "base_uri": "https://localhost:8080/",
     "height": 52
    },
    "colab_type": "code",
    "id": "Bi9cqcEBQUNm",
    "outputId": "0873de1f-e8d9-4ccb-842b-757c794c0638"
   },
   "outputs": [
    {
     "name": "stdout",
     "output_type": "stream",
     "text": [
      "[0.15731332917880936, 0.15148974031593054, 0.15572377686387678, 0.1664767163392361, 0.17954764702235193]\n",
      "[0.9450882446940733, 0.9480830009114476, 0.9480238160059659, 0.9490773073235402, 0.9493258839265634]\n"
     ]
    }
   ],
   "source": [
    "print(history_Single_CNN.history['val_loss'])\n",
    "print(history_Single_CNN.history['val_acc'])"
   ]
  },
  {
   "cell_type": "markdown",
   "metadata": {},
   "source": [
    "**3-Layer Convolution Model**"
   ]
  },
  {
   "cell_type": "code",
   "execution_count": 0,
   "metadata": {
    "colab": {
     "base_uri": "https://localhost:8080/",
     "height": 1446
    },
    "colab_type": "code",
    "id": "EZiWBldzJ5_3",
    "outputId": "057ba4bb-8c72-4311-b33e-34688a512fe7"
   },
   "outputs": [
    {
     "name": "stdout",
     "output_type": "stream",
     "text": [
      "_________________________________________________________________\n",
      "Layer (type)                 Output Shape              Param #   \n",
      "=================================================================\n",
      "embedding_6 (Embedding)      (None, 19, 128)           6400000   \n",
      "_________________________________________________________________\n",
      "conv1d_6 (Conv1D)            (None, 9, 300)            115500    \n",
      "_________________________________________________________________\n",
      "conv1d_7 (Conv1D)            (None, 4, 150)            135150    \n",
      "_________________________________________________________________\n",
      "dropout_8 (Dropout)          (None, 4, 150)            0         \n",
      "_________________________________________________________________\n",
      "conv1d_8 (Conv1D)            (None, 1, 75)             33825     \n",
      "_________________________________________________________________\n",
      "flatten_2 (Flatten)          (None, 75)                0         \n",
      "_________________________________________________________________\n",
      "dropout_9 (Dropout)          (None, 75)                0         \n",
      "_________________________________________________________________\n",
      "dense_9 (Dense)              (None, 150)               11400     \n",
      "_________________________________________________________________\n",
      "dropout_10 (Dropout)         (None, 150)               0         \n",
      "_________________________________________________________________\n",
      "dense_10 (Dense)             (None, 4)                 604       \n",
      "=================================================================\n",
      "Total params: 6,696,479\n",
      "Trainable params: 6,696,479\n",
      "Non-trainable params: 0\n",
      "_________________________________________________________________\n",
      "Train on 337917 samples, validate on 84481 samples\n",
      "Epoch 1/5\n",
      "337917/337917 [==============================] - 61s 180us/step - loss: 0.4989 - acc: 0.8078 - val_loss: 0.3537 - val_acc: 0.8667\n",
      "Epoch 2/5\n",
      "337917/337917 [==============================] - 59s 175us/step - loss: 0.3190 - acc: 0.8804 - val_loss: 0.3371 - val_acc: 0.8727\n",
      "Epoch 3/5\n",
      "337917/337917 [==============================] - 59s 176us/step - loss: 0.2668 - acc: 0.8987 - val_loss: 0.3487 - val_acc: 0.8738\n",
      "Epoch 4/5\n",
      "337917/337917 [==============================] - 58s 171us/step - loss: 0.2302 - acc: 0.9117 - val_loss: 0.3656 - val_acc: 0.8733\n",
      "Epoch 5/5\n",
      "337917/337917 [==============================] - 58s 171us/step - loss: 0.2040 - acc: 0.9211 - val_loss: 0.3945 - val_acc: 0.8720\n"
     ]
    },
    {
     "data": {
      "image/png": "[encoded data removed]",
      "text/plain": [
       "<matplotlib.figure.Figure at 0x7f0af6814d68>"
      ]
     },
     "metadata": {
      "tags": []
     },
     "output_type": "display_data"
    },
    {
     "data": {
      "image/png": "[encoded data removed]",
      "text/plain": [
       "<matplotlib.figure.Figure at 0x7f0ae86829b0>"
      ]
     },
     "metadata": {
      "tags": []
     },
     "output_type": "display_data"
    },
    {
     "name": "stdout",
     "output_type": "stream",
     "text": [
      "[0.35368714871428963, 0.3371267047234158, 0.3487432233647846, 0.3656289123737855, 0.39452533953284197]\n",
      "[0.8667155928551982, 0.8727051052899468, 0.8738414554751956, 0.873332465288053, 0.8719948864241663]\n"
     ]
    }
   ],
   "source": [
    "#Triple Convolution Model\n",
    "\n",
    "#define the model\n",
    "model = Sequential()\n",
    "\n",
    "model.add(Embedding(vocab_size, 128, input_length=X.shape[1]))\n",
    "\n",
    "model.add(Conv1D(300, 3, padding='valid',activation='relu',strides=2))\n",
    "model.add(Conv1D(150, 3, padding='valid',activation='relu',strides=2))\n",
    "model.add(Dropout(0.4))\n",
    "model.add(Conv1D(75, 3, padding='valid',activation='relu',strides=2))\n",
    "model.add(Flatten())\n",
    "model.add(Dropout(0.5))\n",
    "model.add(Dense(150,activation='sigmoid'))\n",
    "model.add(Dropout(0.4))\n",
    "model.add(Dense(4,activation='softmax'))\n",
    "\n",
    "model.compile(loss='categorical_crossentropy',optimizer='adam',metrics=['acc'])\n",
    "\n",
    "model.summary()\n",
    "\n",
    "#fit the model\n",
    "history_Triple_CNN = model.fit(X[train], Y[train], validation_data=(X[test], Y[test]), epochs=5, batch_size=128)\n",
    "#predict\n",
    "score_Triple_CNN = model.evaluate(X[test], Y[test], verbose=0)\n",
    "\n",
    "# summarize history for accuracy\n",
    "plt.plot(history_Triple_CNN.history['acc'])\n",
    "plt.plot(history_Triple_CNN.history['val_acc'])\n",
    "plt.title('model accuracy')\n",
    "plt.ylabel('accuracy')\n",
    "plt.xlabel('epoch')\n",
    "plt.legend(['train', 'test'], loc='upper left')\n",
    "plt.show()\n",
    "\n",
    "# summarize history for loss\n",
    "plt.plot(history_Triple_CNN.history['loss'])\n",
    "plt.plot(history_Triple_CNN.history['val_loss'])\n",
    "plt.title('model loss')\n",
    "plt.ylabel('loss')\n",
    "plt.xlabel('epoch')\n",
    "plt.legend(['train', 'test'], loc='upper left')\n",
    "plt.show()\n",
    "\n",
    "print(history_Triple_CNN.history['val_loss'])\n",
    "print(history_Triple_CNN.history['val_acc'])"
   ]
  },
  {
   "cell_type": "markdown",
   "metadata": {},
   "source": [
    "**Joint CNN + LSTM model**"
   ]
  },
  {
   "cell_type": "code",
   "execution_count": 0,
   "metadata": {
    "colab": {
     "base_uri": "https://localhost:8080/",
     "height": 1325
    },
    "colab_type": "code",
    "id": "PHl4O9UB89Wy",
    "outputId": "0bdcc185-7828-4a34-eee8-ada1b8946ac3"
   },
   "outputs": [
    {
     "name": "stdout",
     "output_type": "stream",
     "text": [
      "_________________________________________________________________\n",
      "Layer (type)                 Output Shape              Param #   \n",
      "=================================================================\n",
      "embedding_7 (Embedding)      (None, 19, 100)           5000000   \n",
      "_________________________________________________________________\n",
      "conv1d_9 (Conv1D)            (None, 15, 64)            32064     \n",
      "_________________________________________________________________\n",
      "dropout_11 (Dropout)         (None, 15, 64)            0         \n",
      "_________________________________________________________________\n",
      "max_pooling1d_1 (MaxPooling1 (None, 3, 64)             0         \n",
      "_________________________________________________________________\n",
      "lstm_3 (LSTM)                (None, 100)               66000     \n",
      "_________________________________________________________________\n",
      "dense_11 (Dense)             (None, 4)                 404       \n",
      "=================================================================\n",
      "Total params: 5,098,468\n",
      "Trainable params: 5,098,468\n",
      "Non-trainable params: 0\n",
      "_________________________________________________________________\n",
      "Train on 316798 samples, validate on 105600 samples\n",
      "Epoch 1/5\n",
      "316798/316798 [==============================] - 81s 256us/step - loss: 0.3929 - acc: 0.8509 - val_loss: 0.2825 - val_acc: 0.8953\n",
      "Epoch 2/5\n",
      "316798/316798 [==============================] - 79s 251us/step - loss: 0.2460 - acc: 0.9086 - val_loss: 0.2680 - val_acc: 0.8998\n",
      "Epoch 3/5\n",
      "316798/316798 [==============================] - 79s 250us/step - loss: 0.2072 - acc: 0.9218 - val_loss: 0.2703 - val_acc: 0.9013\n",
      "Epoch 4/5\n",
      "316798/316798 [==============================] - 78s 247us/step - loss: 0.1806 - acc: 0.9312 - val_loss: 0.2749 - val_acc: 0.9013\n",
      "Epoch 5/5\n",
      "316798/316798 [==============================] - 78s 248us/step - loss: 0.1603 - acc: 0.9381 - val_loss: 0.2861 - val_acc: 0.9018\n",
      "105600/105600 [==============================] - 25s 240us/step\n"
     ]
    },
    {
     "data": {
      "image/png": "[encoded data removed]",
      "text/plain": [
       "<matplotlib.figure.Figure at 0x7f0af60b5c88>"
      ]
     },
     "metadata": {
      "tags": []
     },
     "output_type": "display_data"
    },
    {
     "data": {
      "image/png": "[encoded data removed]",
      "text/plain": [
       "<matplotlib.figure.Figure at 0x7f0af5448908>"
      ]
     },
     "metadata": {
      "tags": []
     },
     "output_type": "display_data"
    },
    {
     "name": "stdout",
     "output_type": "stream",
     "text": [
      "[0.28247254411379497, 0.2680410845622872, 0.2702579854744853, 0.27493210486390374, 0.28611810332897936]\n",
      "[0.8953125, 0.8998295454545454, 0.9012594696969697, 0.901344696969697, 0.9018371212121212]\n"
     ]
    }
   ],
   "source": [
    "#CNN + LSTM model\n",
    "model_conv = Sequential()\n",
    "model_conv.add(Embedding(vocab_size, 100, input_length=X.shape[1]))\n",
    "model_conv.add(Conv1D(64, 5, activation='relu'))\n",
    "model_conv.add(Dropout(0.4))\n",
    "model_conv.add(MaxPooling1D(pool_size=4))\n",
    "model_conv.add(LSTM(100, dropout=0.5, recurrent_dropout=0.5))\n",
    "model_conv.add(Dense(4, activation='softmax'))\n",
    "model_conv.compile(loss='categorical_crossentropy', optimizer='adam', metrics=['accuracy'])\n",
    "model_conv.summary()\n",
    "\n",
    "history_CNN_LSTM = model_conv.fit(X_train, y_train, validation_data=(X_test, y_test), epochs=5, batch_size=128)\n",
    "score_CNN_LSTM = model_conv.evaluate(X_test, y_test)\n",
    "\n",
    "# summarize history for accuracy\n",
    "plt.plot(history_CNN_LSTM.history['acc'])\n",
    "plt.plot(history_CNN_LSTM.history['val_acc'])\n",
    "plt.title('model accuracy')\n",
    "plt.ylabel('accuracy')\n",
    "plt.xlabel('epoch')\n",
    "plt.legend(['train', 'test'], loc='upper left')\n",
    "plt.show()\n",
    "\n",
    "# summarize history for loss\n",
    "plt.plot(history_CNN_LSTM.history['loss'])\n",
    "plt.plot(history_CNN_LSTM.history['val_loss'])\n",
    "plt.title('model loss')\n",
    "plt.ylabel('loss')\n",
    "plt.xlabel('epoch')\n",
    "plt.legend(['train', 'test'], loc='upper left')\n",
    "plt.show()\n",
    "\n",
    "print(history_CNN_LSTM.history['val_loss'])\n",
    "print(history_CNN_LSTM.history['val_acc'])"
   ]
  },
  {
   "cell_type": "markdown",
   "metadata": {},
   "source": [
    "**Word2Vec Embedding**"
   ]
  },
  {
   "cell_type": "code",
   "execution_count": 17,
   "metadata": {
    "colab": {
     "base_uri": "https://localhost:8080/",
     "height": 745
    },
    "colab_type": "code",
    "id": "_twvd_leHH_N",
    "outputId": "439dea57-8c36-41b9-d60e-759df9984c19"
   },
   "outputs": [
    {
     "name": "stdout",
     "output_type": "stream",
     "text": [
      "Collecting gensim\n",
      "\u001b[?25l  Downloading https://files.pythonhosted.org/packages/27/a4/d10c0acc8528d838cda5eede0ee9c784caa598dbf40bd0911ff8d067a7eb/gensim-3.6.0-cp36-cp36m-manylinux1_x86_64.whl (23.6MB)\n",
      "\u001b[K    100% |████████████████████████████████| 23.6MB 1.7MB/s \n",
      "\u001b[?25hCollecting smart-open>=1.2.1 (from gensim)\n",
      "  Downloading https://files.pythonhosted.org/packages/4b/1f/6f27e3682124de63ac97a0a5876da6186de6c19410feab66c1543afab055/smart_open-1.7.1.tar.gz\n",
      "Requirement already satisfied: scipy>=0.18.1 in /usr/local/lib/python3.6/dist-packages (from gensim) (1.1.0)\n",
      "Requirement already satisfied: numpy>=1.11.3 in /usr/local/lib/python3.6/dist-packages (from gensim) (1.14.6)\n",
      "Requirement already satisfied: six>=1.5.0 in /usr/local/lib/python3.6/dist-packages (from gensim) (1.11.0)\n",
      "Collecting boto>=2.32 (from smart-open>=1.2.1->gensim)\n",
      "\u001b[?25l  Downloading https://files.pythonhosted.org/packages/23/10/c0b78c27298029e4454a472a1919bde20cb182dab1662cec7f2ca1dcc523/boto-2.49.0-py2.py3-none-any.whl (1.4MB)\n",
      "\u001b[K    100% |████████████████████████████████| 1.4MB 16.2MB/s \n",
      "\u001b[?25hCollecting bz2file (from smart-open>=1.2.1->gensim)\n",
      "  Downloading https://files.pythonhosted.org/packages/61/39/122222b5e85cd41c391b68a99ee296584b2a2d1d233e7ee32b4532384f2d/bz2file-0.98.tar.gz\n",
      "Requirement already satisfied: requests in /usr/local/lib/python3.6/dist-packages (from smart-open>=1.2.1->gensim) (2.18.4)\n",
      "Collecting boto3 (from smart-open>=1.2.1->gensim)\n",
      "\u001b[?25l  Downloading https://files.pythonhosted.org/packages/9c/b9/7df67f1775d240ac8d111211f967fa75ecc9968ae79ffa0594e36345445f/boto3-1.9.62-py2.py3-none-any.whl (128kB)\n",
      "\u001b[K    100% |████████████████████████████████| 133kB 26.1MB/s \n",
      "\u001b[?25hRequirement already satisfied: urllib3<1.23,>=1.21.1 in /usr/local/lib/python3.6/dist-packages (from requests->smart-open>=1.2.1->gensim) (1.22)\n",
      "Requirement already satisfied: idna<2.7,>=2.5 in /usr/local/lib/python3.6/dist-packages (from requests->smart-open>=1.2.1->gensim) (2.6)\n",
      "Requirement already satisfied: certifi>=2017.4.17 in /usr/local/lib/python3.6/dist-packages (from requests->smart-open>=1.2.1->gensim) (2018.11.29)\n",
      "Requirement already satisfied: chardet<3.1.0,>=3.0.2 in /usr/local/lib/python3.6/dist-packages (from requests->smart-open>=1.2.1->gensim) (3.0.4)\n",
      "Collecting botocore<1.13.0,>=1.12.62 (from boto3->smart-open>=1.2.1->gensim)\n",
      "\u001b[?25l  Downloading https://files.pythonhosted.org/packages/e2/77/35e82076e3beb506280f94213a258819378115f174e516ce69b3a2336e1c/botocore-1.12.62-py2.py3-none-any.whl (5.1MB)\n",
      "\u001b[K    100% |████████████████████████████████| 5.1MB 7.3MB/s \n",
      "\u001b[?25hCollecting jmespath<1.0.0,>=0.7.1 (from boto3->smart-open>=1.2.1->gensim)\n",
      "  Downloading https://files.pythonhosted.org/packages/b7/31/05c8d001f7f87f0f07289a5fc0fc3832e9a57f2dbd4d3b0fee70e0d51365/jmespath-0.9.3-py2.py3-none-any.whl\n",
      "Collecting s3transfer<0.2.0,>=0.1.10 (from boto3->smart-open>=1.2.1->gensim)\n",
      "\u001b[?25l  Downloading https://files.pythonhosted.org/packages/d7/14/2a0004d487464d120c9fb85313a75cd3d71a7506955be458eebfe19a6b1d/s3transfer-0.1.13-py2.py3-none-any.whl (59kB)\n",
      "\u001b[K    100% |████████████████████████████████| 61kB 23.4MB/s \n",
      "\u001b[?25hRequirement already satisfied: python-dateutil<3.0.0,>=2.1; python_version >= \"2.7\" in /usr/local/lib/python3.6/dist-packages (from botocore<1.13.0,>=1.12.62->boto3->smart-open>=1.2.1->gensim) (2.5.3)\n",
      "Collecting docutils>=0.10 (from botocore<1.13.0,>=1.12.62->boto3->smart-open>=1.2.1->gensim)\n",
      "\u001b[?25l  Downloading https://files.pythonhosted.org/packages/36/fa/08e9e6e0e3cbd1d362c3bbee8d01d0aedb2155c4ac112b19ef3cae8eed8d/docutils-0.14-py3-none-any.whl (543kB)\n",
      "\u001b[K    100% |████████████████████████████████| 552kB 25.1MB/s \n",
      "\u001b[?25hBuilding wheels for collected packages: smart-open, bz2file\n",
      "  Running setup.py bdist_wheel for smart-open ... \u001b[?25l-\b \b\\\b \bdone\n",
      "\u001b[?25h  Stored in directory: /root/.cache/pip/wheels/23/00/44/e5b939f7a80c04e32297dbd6d96fa3065af89ecf57e2b5f89f\n",
      "  Running setup.py bdist_wheel for bz2file ... \u001b[?25l-\b \bdone\n",
      "\u001b[?25h  Stored in directory: /root/.cache/pip/wheels/81/75/d6/e1317bf09bf1af5a30befc2a007869fa6e1f516b8f7c591cb9\n",
      "Successfully built smart-open bz2file\n",
      "Installing collected packages: boto, bz2file, jmespath, docutils, botocore, s3transfer, boto3, smart-open, gensim\n",
      "Successfully installed boto-2.49.0 boto3-1.9.62 botocore-1.12.62 bz2file-0.98 docutils-0.14 gensim-3.6.0 jmespath-0.9.3 s3transfer-0.1.13 smart-open-1.7.1\n"
     ]
    }
   ],
   "source": [
    "!pip install gensim"
   ]
  },
  {
   "cell_type": "code",
   "execution_count": 0,
   "metadata": {
    "colab": {
     "base_uri": "https://localhost:8080/",
     "height": 35
    },
    "colab_type": "code",
    "id": "acpJUC8u-FKb",
    "outputId": "1d787f1c-eda0-4046-af1c-e3a06c768e66"
   },
   "outputs": [
    {
     "data": {
      "text/plain": [
       "(400000, 100)"
      ]
     },
     "execution_count": 107,
     "metadata": {
      "tags": []
     },
     "output_type": "execute_result"
    }
   ],
   "source": [
    "from gensim.scripts.glove2word2vec import glove2word2vec\n",
    "glove_input_file = 'glove.6B.100d.txt'\n",
    "word2vec_output_file = 'glove.6B.100d.txt.word2vec'\n",
    "glove2word2vec(glove_input_file, word2vec_output_file)\n"
   ]
  },
  {
   "cell_type": "code",
   "execution_count": 0,
   "metadata": {
    "colab": {},
    "colab_type": "code",
    "collapsed": true,
    "id": "UlmKK-syfdZ5"
   },
   "outputs": [],
   "source": [
    "from gensim.models import KeyedVectors\n",
    "# load the Stanford GloVe model\n",
    "filename = 'glove.6B.100d.txt.word2vec'\n",
    "word2vec = KeyedVectors.load_word2vec_format(filename, binary=False)"
   ]
  },
  {
   "cell_type": "code",
   "execution_count": 19,
   "metadata": {
    "colab": {
     "base_uri": "https://localhost:8080/",
     "height": 35
    },
    "colab_type": "code",
    "id": "jXwj70AkFH0T",
    "outputId": "6760e51d-e6bc-422a-ff3c-bdb152e96b5e"
   },
   "outputs": [
    {
     "name": "stdout",
     "output_type": "stream",
     "text": [
      "Null word embeddings: 16089\n"
     ]
    }
   ],
   "source": [
    "from keras.layers import Embedding\n",
    "word_index = t.word_index\n",
    "nb_words = min(vocab_size, len(word_index))+1\n",
    "\n",
    "EMBEDDING_DIM=100\n",
    "\n",
    "embedding_matrix = np.zeros((nb_words, EMBEDDING_DIM))\n",
    "for word, i in word_index.items():\n",
    "    if word in word2vec.vocab:\n",
    "        try: embedding_matrix[i] = word2vec.word_vec(word)\n",
    "        except: break\n",
    "print('Null word embeddings: %d' % np.sum(np.sum(embedding_matrix, axis=1) == 0))"
   ]
  },
  {
   "cell_type": "code",
   "execution_count": 21,
   "metadata": {
    "colab": {
     "base_uri": "https://localhost:8080/",
     "height": 728
    },
    "colab_type": "code",
    "id": "vYWNqZ4NGPCy",
    "outputId": "6ae869dd-e791-4c20-ec82-3435db75a3e6"
   },
   "outputs": [
    {
     "name": "stdout",
     "output_type": "stream",
     "text": [
      "_________________________________________________________________\n",
      "Layer (type)                 Output Shape              Param #   \n",
      "=================================================================\n",
      "embedding_2 (Embedding)      (None, 19, 100)           5000100   \n",
      "_________________________________________________________________\n",
      "conv1d_2 (Conv1D)            (None, 17, 128)           38528     \n",
      "_________________________________________________________________\n",
      "global_max_pooling1d_2 (Glob (None, 128)               0         \n",
      "_________________________________________________________________\n",
      "dropout_3 (Dropout)          (None, 128)               0         \n",
      "_________________________________________________________________\n",
      "dense_3 (Dense)              (None, 128)               16512     \n",
      "_________________________________________________________________\n",
      "dropout_4 (Dropout)          (None, 128)               0         \n",
      "_________________________________________________________________\n",
      "activation_3 (Activation)    (None, 128)               0         \n",
      "_________________________________________________________________\n",
      "dense_4 (Dense)              (None, 4)                 516       \n",
      "_________________________________________________________________\n",
      "activation_4 (Activation)    (None, 4)                 0         \n",
      "=================================================================\n",
      "Total params: 5,055,656\n",
      "Trainable params: 5,055,656\n",
      "Non-trainable params: 0\n",
      "_________________________________________________________________\n",
      "Train on 316798 samples, validate on 105600 samples\n",
      "Epoch 1/5\n",
      "316798/316798 [==============================] - 35s 110us/step - loss: 0.3222 - acc: 0.8879 - val_loss: 0.1772 - val_acc: 0.9389\n",
      "Epoch 2/5\n",
      "316798/316798 [==============================] - 34s 108us/step - loss: 0.1711 - acc: 0.9427 - val_loss: 0.1556 - val_acc: 0.9467\n",
      "Epoch 3/5\n",
      "316798/316798 [==============================] - 34s 108us/step - loss: 0.1365 - acc: 0.9539 - val_loss: 0.1516 - val_acc: 0.9490\n",
      "Epoch 4/5\n",
      "316798/316798 [==============================] - 34s 107us/step - loss: 0.1165 - acc: 0.9603 - val_loss: 0.1554 - val_acc: 0.9486\n",
      "Epoch 5/5\n",
      "316798/316798 [==============================] - 34s 106us/step - loss: 0.1039 - acc: 0.9639 - val_loss: 0.1560 - val_acc: 0.9499\n"
     ]
    },
    {
     "data": {
      "text/plain": [
       "array([[27044,   389,   364,  1283],\n",
       "       [  394, 37196,   182,   311],\n",
       "       [  274,   200, 10707,   143],\n",
       "       [ 1289,   326,   140, 25358]])"
      ]
     },
     "execution_count": 21,
     "metadata": {
      "tags": []
     },
     "output_type": "execute_result"
    }
   ],
   "source": [
    "#CNN after word2vec\n",
    "model = Sequential()\n",
    "\n",
    "model.add(Embedding(nb_words, EMBEDDING_DIM, weights=[embedding_matrix], input_length=X.shape[1]))\n",
    "model.add(Conv1D(128,3,padding='valid',activation='relu',strides=1))\n",
    "model.add(GlobalMaxPooling1D())\n",
    "model.add(Dropout(0.5))\n",
    "model.add(Dense(128))\n",
    "model.add(Dropout(0.5))\n",
    "model.add(Activation('relu'))\n",
    "model.add(Dense(4))\n",
    "model.add(Activation('softmax'))\n",
    "model.compile(loss='categorical_crossentropy',optimizer='adam',metrics=['acc'])\n",
    "model.summary()\n",
    "\n",
    "history_CNN_word2vec = model.fit(X_train, y_train, validation_data=(X_test, y_test), epochs=5, batch_size=128)\n",
    "pred_y_CNN = model.predict(X_test)\n",
    "'''\n",
    "# summarize history for accuracy\n",
    "plt.plot(history_CNN_word2vec.history['acc'])\n",
    "plt.plot(history_CNN_word2vec.history['val_acc'])\n",
    "plt.title('model accuracy')\n",
    "plt.ylabel('accuracy')\n",
    "plt.xlabel('epoch')\n",
    "plt.legend(['train', 'test'], loc='upper left')\n",
    "plt.show()\n",
    "\n",
    "# summarize history for loss\n",
    "plt.plot(history_CNN_word2vec.history['loss'])\n",
    "plt.plot(history_CNN_word2vec.history['val_loss'])\n",
    "plt.title('model loss')\n",
    "plt.ylabel('loss')\n",
    "plt.xlabel('epoch')\n",
    "plt.legend(['train', 'test'], loc='upper left')\n",
    "plt.show()\n",
    "\n",
    "print(history_CNN_word2vec.history['val_loss'])\n",
    "print(history_CNN_word2vec.history['val_acc'])\n",
    "'''\n",
    "from sklearn.metrics import confusion_matrix\n",
    "\n",
    "confusion_matrix(y_test.argmax(axis=1), pred_y_CNN.argmax(axis=1))\n"
   ]
  },
  {
   "cell_type": "markdown",
   "metadata": {},
   "source": [
    "**LSTM Model w/ word2vec embedding**"
   ]
  },
  {
   "cell_type": "code",
   "execution_count": 22,
   "metadata": {
    "colab": {
     "base_uri": "https://localhost:8080/",
     "height": 521
    },
    "colab_type": "code",
    "id": "khn8_DVv8NNo",
    "outputId": "c15e5873-9ed4-458b-876c-afc7491dcf42"
   },
   "outputs": [
    {
     "name": "stdout",
     "output_type": "stream",
     "text": [
      "_________________________________________________________________\n",
      "Layer (type)                 Output Shape              Param #   \n",
      "=================================================================\n",
      "embedding_3 (Embedding)      (None, 19, 100)           5000100   \n",
      "_________________________________________________________________\n",
      "lstm_1 (LSTM)                (None, 100)               80400     \n",
      "_________________________________________________________________\n",
      "dense_5 (Dense)              (None, 4)                 404       \n",
      "=================================================================\n",
      "Total params: 5,080,904\n",
      "Trainable params: 5,080,904\n",
      "Non-trainable params: 0\n",
      "_________________________________________________________________\n",
      "Train on 316798 samples, validate on 105600 samples\n",
      "Epoch 1/5\n",
      "316798/316798 [==============================] - 203s 641us/step - loss: 0.3176 - acc: 0.8859 - val_loss: 0.1752 - val_acc: 0.9385\n",
      "Epoch 2/5\n",
      "316798/316798 [==============================] - 202s 639us/step - loss: 0.1696 - acc: 0.9411 - val_loss: 0.1489 - val_acc: 0.9482\n",
      "Epoch 3/5\n",
      "316798/316798 [==============================] - 201s 635us/step - loss: 0.1357 - acc: 0.9528 - val_loss: 0.1436 - val_acc: 0.9503\n",
      "Epoch 4/5\n",
      "316798/316798 [==============================] - 202s 638us/step - loss: 0.1170 - acc: 0.9588 - val_loss: 0.1423 - val_acc: 0.9522\n",
      "Epoch 5/5\n",
      "316798/316798 [==============================] - 202s 639us/step - loss: 0.1046 - acc: 0.9631 - val_loss: 0.1428 - val_acc: 0.9523\n"
     ]
    },
    {
     "data": {
      "text/plain": [
       "array([[27180,   390,   262,  1248],\n",
       "       [  349, 37285,   138,   311],\n",
       "       [  311,   196, 10686,   131],\n",
       "       [ 1304,   287,   111, 25411]])"
      ]
     },
     "execution_count": 22,
     "metadata": {
      "tags": []
     },
     "output_type": "execute_result"
    }
   ],
   "source": [
    "#LSTM after word2vec\n",
    "model = Sequential()\n",
    "model.add(Embedding(nb_words, EMBEDDING_DIM, weights=[embedding_matrix], input_length=X.shape[1]))\n",
    "model.add(LSTM(100, dropout=0.5, recurrent_dropout=0.5))\n",
    "model.add(Dense(4, activation='softmax'))\n",
    "model.compile(loss='categorical_crossentropy', optimizer='adam', metrics=['accuracy'])\n",
    "model.summary()\n",
    "\n",
    "history_LSTM_word2vec = model.fit(X_train, y_train, validation_data=(X_test, y_test), epochs=5, batch_size=128)\n",
    "pred_LSTM_word2vec = model.predict(X_test)\n",
    "'''\n",
    "# summarize history for accuracy\n",
    "plt.plot(history_LSTM_word2vec.history['acc'])\n",
    "plt.plot(history_LSTM_word2vec.history['val_acc'])\n",
    "plt.title('model accuracy')\n",
    "plt.ylabel('accuracy')\n",
    "plt.xlabel('epoch')\n",
    "plt.legend(['train', 'test'], loc='upper left')\n",
    "plt.show()\n",
    "\n",
    "# summarize history for loss\n",
    "plt.plot(history_LSTM_word2vec.history['loss'])\n",
    "plt.plot(history_LSTM_word2vec.history['val_loss'])\n",
    "plt.title('model loss')\n",
    "plt.ylabel('loss')\n",
    "plt.xlabel('epoch')\n",
    "plt.legend(['train', 'test'], loc='upper left')\n",
    "plt.show()\n",
    "\n",
    "\n",
    "print(history_LSTM_word2vec.history['val_loss'])\n",
    "print(history_LSTM_word2vec.history['val_acc'])\n",
    "'''\n",
    "from sklearn.metrics import confusion_matrix\n",
    "\n",
    "confusion_matrix(y_test.argmax(axis=1), pred_LSTM_word2vec.argmax(axis=1))\n"
   ]
  },
  {
   "cell_type": "markdown",
   "metadata": {},
   "source": [
    "**Above Models with Cross Validation**"
   ]
  },
  {
   "cell_type": "code",
   "execution_count": 0,
   "metadata": {
    "colab": {},
    "colab_type": "code",
    "collapsed": true,
    "id": "qX9OHnLyKg1Q"
   },
   "outputs": [],
   "source": [
    "kfold = StratifiedKFold(n_splits=5, shuffle=True, random_state=42)\n",
    "Y_reg = data['CATEGORY']"
   ]
  },
  {
   "cell_type": "code",
   "execution_count": 0,
   "metadata": {
    "colab": {},
    "colab_type": "code",
    "collapsed": true,
    "id": "KLraIQyKKGyZ"
   },
   "outputs": [],
   "source": [
    "cvscores = {}\n",
    "loss_vals = {}\n",
    "val_accs = {}"
   ]
  },
  {
   "cell_type": "code",
   "execution_count": 0,
   "metadata": {
    "colab": {},
    "colab_type": "code",
    "collapsed": true,
    "id": "GNAp5fmCJyIO"
   },
   "outputs": [],
   "source": [
    "#cross validation -- beware lasts long\n",
    "cvscores['LSTM'] = []\n",
    "loss_vals['LSTM'] = []\n",
    "val_accs['LSTM'] = []\n",
    "for train, test in kfold.split(X, Y_reg):\n",
    "  #Turn labels into categorical after the split\n",
    "  encoder = LabelEncoder()\n",
    "  Y = to_categorical(encoder.fit_transform(Y_reg), num_classes=4)\n",
    "  #define the model\n",
    "  model = Sequential()\n",
    "  model.add(Embedding(vocab_size, output_dim=100, input_length=X.shape[1]))\n",
    "  model.add(LSTM(100, dropout=0.5, recurrent_dropout=0.5))\n",
    "  model.add(Dense(4, activation='softmax'))\n",
    "  model.compile(loss='categorical_crossentropy', optimizer='adam', metrics=['accuracy'])\n",
    "  \n",
    "  #fit the model\n",
    "  history = model.fit(X[train], Y[train], validation_data=(X[test], Y[test]), epochs=5, batch_size=128)\n",
    "  #predict\n",
    "  score = model.evaluate(X[test], Y[test], verbose=0)\n",
    "  #store values\n",
    "  loss_vals['LSTM'].append(history.history['val_loss'])\n",
    "  val_accs['LSTM'].append(history.history['val_acc'])\n",
    "  cvscores['LSTM'].append(score[1])\n",
    "  \n",
    "  \n",
    "model.summary()"
   ]
  },
  {
   "cell_type": "code",
   "execution_count": 0,
   "metadata": {
    "colab": {
     "base_uri": "https://localhost:8080/",
     "height": 1471
    },
    "colab_type": "code",
    "id": "eWZLhZOSKlUH",
    "outputId": "ed57b17a-0d83-4c82-c645-8565271a0c06"
   },
   "outputs": [
    {
     "name": "stdout",
     "output_type": "stream",
     "text": [
      "Train on 337917 samples, validate on 84481 samples\n",
      "Epoch 1/5\n",
      "337917/337917 [==============================] - 53s 158us/step - loss: 0.2713 - acc: 0.9042 - val_loss: 0.1587 - val_acc: 0.9453\n",
      "Epoch 2/5\n",
      "337917/337917 [==============================] - 44s 132us/step - loss: 0.1351 - acc: 0.9547 - val_loss: 0.1484 - val_acc: 0.9489\n",
      "Epoch 3/5\n",
      "337917/337917 [==============================] - 41s 122us/step - loss: 0.1037 - acc: 0.9643 - val_loss: 0.1534 - val_acc: 0.9485\n",
      "Epoch 4/5\n",
      "337917/337917 [==============================] - 41s 121us/step - loss: 0.0846 - acc: 0.9700 - val_loss: 0.1671 - val_acc: 0.9494\n",
      "Epoch 5/5\n",
      "337917/337917 [==============================] - 42s 124us/step - loss: 0.0719 - acc: 0.9742 - val_loss: 0.1820 - val_acc: 0.9480\n",
      "Train on 337918 samples, validate on 84480 samples\n",
      "Epoch 1/5\n",
      "337918/337918 [==============================] - 42s 125us/step - loss: 0.2697 - acc: 0.9052 - val_loss: 0.1546 - val_acc: 0.9467\n",
      "Epoch 2/5\n",
      "337918/337918 [==============================] - 41s 122us/step - loss: 0.1342 - acc: 0.9550 - val_loss: 0.1470 - val_acc: 0.9496\n",
      "Epoch 3/5\n",
      "337918/337918 [==============================] - 41s 122us/step - loss: 0.1025 - acc: 0.9645 - val_loss: 0.1564 - val_acc: 0.9491\n",
      "Epoch 4/5\n",
      "337918/337918 [==============================] - 41s 122us/step - loss: 0.0837 - acc: 0.9707 - val_loss: 0.1633 - val_acc: 0.9490\n",
      "Epoch 5/5\n",
      "337918/337918 [==============================] - 41s 122us/step - loss: 0.0723 - acc: 0.9740 - val_loss: 0.1733 - val_acc: 0.9501\n",
      "Train on 337918 samples, validate on 84480 samples\n",
      "Epoch 1/5\n",
      "337918/337918 [==============================] - 42s 124us/step - loss: 0.2687 - acc: 0.9056 - val_loss: 0.1540 - val_acc: 0.9471\n",
      "Epoch 2/5\n",
      "337918/337918 [==============================] - 41s 122us/step - loss: 0.1338 - acc: 0.9549 - val_loss: 0.1483 - val_acc: 0.9505\n",
      "Epoch 3/5\n",
      "337918/337918 [==============================] - 41s 122us/step - loss: 0.1026 - acc: 0.9644 - val_loss: 0.1539 - val_acc: 0.9514\n",
      "Epoch 4/5\n",
      "337918/337918 [==============================] - 41s 121us/step - loss: 0.0835 - acc: 0.9703 - val_loss: 0.1662 - val_acc: 0.9503\n",
      "Epoch 5/5\n",
      "337918/337918 [==============================] - 41s 121us/step - loss: 0.0705 - acc: 0.9744 - val_loss: 0.1796 - val_acc: 0.9511\n",
      "Train on 337919 samples, validate on 84479 samples\n",
      "Epoch 1/5\n",
      "337919/337919 [==============================] - 42s 125us/step - loss: 0.2721 - acc: 0.9042 - val_loss: 0.1541 - val_acc: 0.9474\n",
      "Epoch 2/5\n",
      "337919/337919 [==============================] - 41s 122us/step - loss: 0.1339 - acc: 0.9552 - val_loss: 0.1507 - val_acc: 0.9511\n",
      "Epoch 3/5\n",
      "337919/337919 [==============================] - 41s 121us/step - loss: 0.1032 - acc: 0.9643 - val_loss: 0.1537 - val_acc: 0.9512\n",
      "Epoch 4/5\n",
      "337919/337919 [==============================] - 41s 122us/step - loss: 0.0840 - acc: 0.9705 - val_loss: 0.1659 - val_acc: 0.9516\n",
      "Epoch 5/5\n",
      "337919/337919 [==============================] - 42s 124us/step - loss: 0.0718 - acc: 0.9743 - val_loss: 0.1762 - val_acc: 0.9509\n",
      "Train on 337920 samples, validate on 84478 samples\n",
      "Epoch 1/5\n",
      "337920/337920 [==============================] - 43s 126us/step - loss: 0.2711 - acc: 0.9044 - val_loss: 0.1602 - val_acc: 0.9447\n",
      "Epoch 2/5\n",
      "337920/337920 [==============================] - 42s 123us/step - loss: 0.1333 - acc: 0.9552 - val_loss: 0.1504 - val_acc: 0.9492\n",
      "Epoch 3/5\n",
      "337920/337920 [==============================] - 42s 123us/step - loss: 0.1027 - acc: 0.9642 - val_loss: 0.1560 - val_acc: 0.9500\n",
      "Epoch 4/5\n",
      "337920/337920 [==============================] - 42s 123us/step - loss: 0.0835 - acc: 0.9704 - val_loss: 0.1693 - val_acc: 0.9489\n",
      "Epoch 5/5\n",
      "337920/337920 [==============================] - 41s 122us/step - loss: 0.0714 - acc: 0.9744 - val_loss: 0.1792 - val_acc: 0.9488\n",
      "_________________________________________________________________\n",
      "Layer (type)                 Output Shape              Param #   \n",
      "=================================================================\n",
      "embedding_11 (Embedding)     (None, 19, 128)           6400000   \n",
      "_________________________________________________________________\n",
      "conv1d_11 (Conv1D)           (None, 17, 128)           49280     \n",
      "_________________________________________________________________\n",
      "global_max_pooling1d_11 (Glo (None, 128)               0         \n",
      "_________________________________________________________________\n",
      "dropout_21 (Dropout)         (None, 128)               0         \n",
      "_________________________________________________________________\n",
      "dense_21 (Dense)             (None, 128)               16512     \n",
      "_________________________________________________________________\n",
      "dropout_22 (Dropout)         (None, 128)               0         \n",
      "_________________________________________________________________\n",
      "activation_21 (Activation)   (None, 128)               0         \n",
      "_________________________________________________________________\n",
      "dense_22 (Dense)             (None, 4)                 516       \n",
      "_________________________________________________________________\n",
      "activation_22 (Activation)   (None, 4)                 0         \n",
      "=================================================================\n",
      "Total params: 6,466,308\n",
      "Trainable params: 6,466,308\n",
      "Non-trainable params: 0\n",
      "_________________________________________________________________\n",
      "[[0.15867806600576956, 0.14844797611249977, 0.15340359469481055, 0.16712614287943414, 0.18203254485370618], [0.15457466403974898, 0.1469816956351596, 0.1564381671989064, 0.16329594736342903, 0.1733254220785029], [0.15400105525217386, 0.14825693263626433, 0.15385158227432066, 0.1661647267563019, 0.17958800006807987], [0.15405112911323945, 0.15073442152630664, 0.1536739381247447, 0.16592135551771553, 0.17623133139170644], [0.16017609305709607, 0.15040611022822137, 0.15602541653928315, 0.16926218657580067, 0.17924487900589767]]\n",
      "[[0.9452894733727111, 0.9488879156259987, 0.9485209692120121, 0.9493969058131414, 0.9479764680815804], [0.9466619318181818, 0.9496330492424242, 0.9491358901515151, 0.9489701704545455, 0.9501302083333333], [0.9470999053030303, 0.9505089962121213, 0.9514441287878788, 0.9502604166666667, 0.9511008522727272], [0.947442559667518, 0.9510647616348709, 0.9511594597255206, 0.951561926622071, 0.9508753654705047], [0.9447311725777098, 0.949229385171013, 0.9499751414202581, 0.9488861004851127, 0.9488150760763909]]\n",
      "[0.9479764680815804, 0.9501302083333333, 0.9511008522727272, 0.9508753654754436, 0.9488150761144913]\n"
     ]
    }
   ],
   "source": [
    "#cross validation -- this is actually regular CNN\n",
    "cvscores['CNN_word2vec'] = []\n",
    "loss_vals['CNN_word2vec'] = []\n",
    "val_accs['CNN_word2vec'] = []\n",
    "for train, test in kfold.split(X, Y_reg):\n",
    "  #Turn labels into categorical after the split\n",
    "  encoder = LabelEncoder()\n",
    "  Y = to_categorical(encoder.fit_transform(Y_reg), num_classes=4)\n",
    "  #define the model\n",
    "  model = Sequential()\n",
    "\n",
    "  model.add(Embedding(vocab_size, 128, input_length=X.shape[1]))\n",
    "  model.add(Conv1D(128,3,padding='valid',activation='relu',strides=1))\n",
    "  model.add(GlobalMaxPooling1D())\n",
    "  model.add(Dropout(0.5))\n",
    "  model.add(Dense(128))\n",
    "  model.add(Dropout(0.5))\n",
    "  model.add(Activation('relu'))\n",
    "  model.add(Dense(4))\n",
    "  model.add(Activation('softmax'))\n",
    "  model.compile(loss='categorical_crossentropy',optimizer='adam',metrics=['acc'])\n",
    "\n",
    "  #fit the model\n",
    "  history = model.fit(X[train], Y[train], validation_data=(X[test], Y[test]), epochs=5, batch_size=128)\n",
    "  #predict\n",
    "  score = model.evaluate(X[test], Y[test], verbose=0)\n",
    "  #store values\n",
    "  loss_vals['CNN_word2vec'].append(history.history['val_loss'])\n",
    "  val_accs['CNN_word2vec'].append(history.history['val_acc'])\n",
    "  cvscores['CNN_word2vec'].append(score[1])\n",
    "  \n",
    "  \n",
    "model.summary()\n",
    "\n",
    "print(loss_vals['CNN_word2vec'])\n",
    "print(val_accs['CNN_word2vec'])\n",
    "print(cvscores['CNN_word2vec'])"
   ]
  },
  {
   "cell_type": "code",
   "execution_count": 0,
   "metadata": {
    "colab": {
     "base_uri": "https://localhost:8080/",
     "height": 1471
    },
    "colab_type": "code",
    "id": "-9rZll19X0OZ",
    "outputId": "291948d7-497a-4233-efe7-dbc3683a49d6"
   },
   "outputs": [
    {
     "name": "stdout",
     "output_type": "stream",
     "text": [
      "Train on 337917 samples, validate on 84481 samples\n",
      "Epoch 1/5\n",
      "337917/337917 [==============================] - 42s 125us/step - loss: 0.3180 - acc: 0.8899 - val_loss: 0.1770 - val_acc: 0.9392\n",
      "Epoch 2/5\n",
      "337917/337917 [==============================] - 41s 121us/step - loss: 0.1685 - acc: 0.9434 - val_loss: 0.1526 - val_acc: 0.9471\n",
      "Epoch 3/5\n",
      "337917/337917 [==============================] - 40s 120us/step - loss: 0.1354 - acc: 0.9542 - val_loss: 0.1511 - val_acc: 0.9485\n",
      "Epoch 4/5\n",
      "337917/337917 [==============================] - 40s 118us/step - loss: 0.1158 - acc: 0.9602 - val_loss: 0.1521 - val_acc: 0.9501\n",
      "Epoch 5/5\n",
      "337917/337917 [==============================] - 40s 118us/step - loss: 0.1026 - acc: 0.9644 - val_loss: 0.1583 - val_acc: 0.9497\n",
      "Train on 337918 samples, validate on 84480 samples\n",
      "Epoch 1/5\n",
      "337918/337918 [==============================] - 42s 123us/step - loss: 0.3171 - acc: 0.8898 - val_loss: 0.1758 - val_acc: 0.9404\n",
      "Epoch 2/5\n",
      "337918/337918 [==============================] - 40s 118us/step - loss: 0.1698 - acc: 0.9434 - val_loss: 0.1551 - val_acc: 0.9477\n",
      "Epoch 3/5\n",
      "337918/337918 [==============================] - 40s 118us/step - loss: 0.1355 - acc: 0.9538 - val_loss: 0.1513 - val_acc: 0.9505\n",
      "Epoch 4/5\n",
      "337918/337918 [==============================] - 40s 119us/step - loss: 0.1174 - acc: 0.9595 - val_loss: 0.1522 - val_acc: 0.9504\n",
      "Epoch 5/5\n",
      "337918/337918 [==============================] - 39s 116us/step - loss: 0.1033 - acc: 0.9641 - val_loss: 0.1581 - val_acc: 0.9496\n",
      "Train on 337918 samples, validate on 84480 samples\n",
      "Epoch 1/5\n",
      "337918/337918 [==============================] - 41s 120us/step - loss: 0.3183 - acc: 0.8890 - val_loss: 0.1778 - val_acc: 0.9384\n",
      "Epoch 2/5\n",
      "337918/337918 [==============================] - 39s 114us/step - loss: 0.1693 - acc: 0.9432 - val_loss: 0.1518 - val_acc: 0.9486\n",
      "Epoch 3/5\n",
      "337918/337918 [==============================] - 39s 115us/step - loss: 0.1359 - acc: 0.9539 - val_loss: 0.1488 - val_acc: 0.9500\n",
      "Epoch 4/5\n",
      "337918/337918 [==============================] - 38s 114us/step - loss: 0.1163 - acc: 0.9597 - val_loss: 0.1494 - val_acc: 0.9511\n",
      "Epoch 5/5\n",
      "337918/337918 [==============================] - 39s 114us/step - loss: 0.1024 - acc: 0.9638 - val_loss: 0.1559 - val_acc: 0.9508\n",
      "Train on 337919 samples, validate on 84479 samples\n",
      "Epoch 1/5\n",
      "337919/337919 [==============================] - 40s 120us/step - loss: 0.3193 - acc: 0.8886 - val_loss: 0.1735 - val_acc: 0.9408\n",
      "Epoch 2/5\n",
      "337919/337919 [==============================] - 39s 117us/step - loss: 0.1715 - acc: 0.9424 - val_loss: 0.1543 - val_acc: 0.9470\n",
      "Epoch 3/5\n",
      "337919/337919 [==============================] - 39s 115us/step - loss: 0.1369 - acc: 0.9533 - val_loss: 0.1510 - val_acc: 0.9508\n",
      "Epoch 4/5\n",
      "337919/337919 [==============================] - 39s 115us/step - loss: 0.1174 - acc: 0.9594 - val_loss: 0.1490 - val_acc: 0.9515\n",
      "Epoch 5/5\n",
      "337919/337919 [==============================] - 38s 114us/step - loss: 0.1036 - acc: 0.9638 - val_loss: 0.1549 - val_acc: 0.9513\n",
      "Train on 337920 samples, validate on 84478 samples\n",
      "Epoch 1/5\n",
      "337920/337920 [==============================] - 41s 121us/step - loss: 0.3164 - acc: 0.8900 - val_loss: 0.1795 - val_acc: 0.9383\n",
      "Epoch 2/5\n",
      "337920/337920 [==============================] - 39s 115us/step - loss: 0.1686 - acc: 0.9437 - val_loss: 0.1564 - val_acc: 0.9466\n",
      "Epoch 3/5\n",
      "337920/337920 [==============================] - 38s 114us/step - loss: 0.1351 - acc: 0.9541 - val_loss: 0.1514 - val_acc: 0.9491\n",
      "Epoch 4/5\n",
      "337920/337920 [==============================] - 39s 115us/step - loss: 0.1167 - acc: 0.9600 - val_loss: 0.1529 - val_acc: 0.9500\n",
      "Epoch 5/5\n",
      "337920/337920 [==============================] - 39s 115us/step - loss: 0.1022 - acc: 0.9644 - val_loss: 0.1581 - val_acc: 0.9492\n",
      "_________________________________________________________________\n",
      "Layer (type)                 Output Shape              Param #   \n",
      "=================================================================\n",
      "embedding_16 (Embedding)     (None, 19, 100)           5000100   \n",
      "_________________________________________________________________\n",
      "conv1d_16 (Conv1D)           (None, 17, 128)           38528     \n",
      "_________________________________________________________________\n",
      "global_max_pooling1d_16 (Glo (None, 128)               0         \n",
      "_________________________________________________________________\n",
      "dropout_31 (Dropout)         (None, 128)               0         \n",
      "_________________________________________________________________\n",
      "dense_31 (Dense)             (None, 128)               16512     \n",
      "_________________________________________________________________\n",
      "dropout_32 (Dropout)         (None, 128)               0         \n",
      "_________________________________________________________________\n",
      "activation_31 (Activation)   (None, 128)               0         \n",
      "_________________________________________________________________\n",
      "dense_32 (Dense)             (None, 4)                 516       \n",
      "_________________________________________________________________\n",
      "activation_32 (Activation)   (None, 4)                 0         \n",
      "=================================================================\n",
      "Total params: 5,055,656\n",
      "Trainable params: 5,055,656\n",
      "Non-trainable params: 0\n",
      "_________________________________________________________________\n",
      "[[0.17704728049277818, 0.1525951267527684, 0.15108784102531808, 0.1521006426402951, 0.15829219107979595], [0.17577238070362275, 0.1550740585697702, 0.1513036854181943, 0.1522090039083692, 0.15810197757214844], [0.17777795472259944, 0.15177121792486023, 0.14879456962393525, 0.14942425203031842, 0.15586661768148505], [0.1734880853765939, 0.15426567268706862, 0.1509998105082279, 0.1489602541112557, 0.15491613911195135], [0.17948960968265226, 0.1564334557379378, 0.1513976090452053, 0.1528747393243743, 0.1581259225512468]]\n",
      "[[0.9392289390513844, 0.9470768575182585, 0.9484972952498195, 0.9501307986411146, 0.949728341283839], [0.9403645833333333, 0.9477272727272728, 0.9504734848484848, 0.9504379734848485, 0.949609375], [0.9383522727272727, 0.948638731060606, 0.95, 0.9511482007575758, 0.95078125], [0.940766344316222, 0.9470164182934608, 0.9507569928684814, 0.9515027403267037, 0.9512778323444773], [0.9383034636349543, 0.9465896446031079, 0.9490636615520732, 0.9499514666610958, 0.9492293851724242]]\n",
      "[0.949728341283839, 0.949609375, 0.95078125, 0.9512778323607051, 0.9492293851653685]\n"
     ]
    }
   ],
   "source": [
    "#cross validation -- beware lasts long\n",
    "cvscores['CNN_word2vec_actual'] = []\n",
    "loss_vals['CNN_word2vec_actual'] = []\n",
    "val_accs['CNN_word2vec_actual'] = []\n",
    "for train, test in kfold.split(X, Y_reg):\n",
    "  #Turn labels into categorical after the split\n",
    "  encoder = LabelEncoder()\n",
    "  Y = to_categorical(encoder.fit_transform(Y_reg), num_classes=4)\n",
    "  #define the model\n",
    "  model = Sequential()\n",
    "\n",
    "  model.add(Embedding(nb_words, EMBEDDING_DIM, weights=[embedding_matrix], input_length=X.shape[1]))\n",
    "  model.add(Conv1D(128,3,padding='valid',activation='relu',strides=1))\n",
    "  model.add(GlobalMaxPooling1D())\n",
    "  model.add(Dropout(0.5))\n",
    "  model.add(Dense(128))\n",
    "  model.add(Dropout(0.5))\n",
    "  model.add(Activation('relu'))\n",
    "  model.add(Dense(4))\n",
    "  model.add(Activation('softmax'))\n",
    "  model.compile(loss='categorical_crossentropy',optimizer='adam',metrics=['acc'])\n",
    "\n",
    "  #fit the model\n",
    "  history = model.fit(X[train], Y[train], validation_data=(X[test], Y[test]), epochs=5, batch_size=128)\n",
    "  #predict\n",
    "  score = model.evaluate(X[test], Y[test], verbose=0)\n",
    "  #store values\n",
    "  loss_vals['CNN_word2vec_actual'].append(history.history['val_loss'])\n",
    "  val_accs['CNN_word2vec_actual'].append(history.history['val_acc'])\n",
    "  cvscores['CNN_word2vec_actual'].append(score[1])\n",
    "  \n",
    "  \n",
    "model.summary()\n",
    "\n",
    "print(loss_vals['CNN_word2vec_actual'])\n",
    "print(val_accs['CNN_word2vec_actual'])\n",
    "print(cvscores['CNN_word2vec_actual'])"
   ]
  },
  {
   "cell_type": "code",
   "execution_count": 0,
   "metadata": {
    "colab": {
     "base_uri": "https://localhost:8080/",
     "height": 1264
    },
    "colab_type": "code",
    "id": "u4n3stWULMSI",
    "outputId": "393432fd-8e5b-4e1f-aabf-4602e87d6f94"
   },
   "outputs": [
    {
     "name": "stdout",
     "output_type": "stream",
     "text": [
      "Train on 337917 samples, validate on 84481 samples\n",
      "Epoch 1/5\n",
      "337917/337917 [==============================] - 238s 706us/step - loss: 0.3106 - acc: 0.8889 - val_loss: 0.1727 - val_acc: 0.9385\n",
      "Epoch 2/5\n",
      "337917/337917 [==============================] - 233s 690us/step - loss: 0.1664 - acc: 0.9420 - val_loss: 0.1485 - val_acc: 0.9473\n",
      "Epoch 3/5\n",
      "337917/337917 [==============================] - 232s 686us/step - loss: 0.1332 - acc: 0.9536 - val_loss: 0.1427 - val_acc: 0.9500\n",
      "Epoch 4/5\n",
      "337917/337917 [==============================] - 230s 681us/step - loss: 0.1153 - acc: 0.9590 - val_loss: 0.1402 - val_acc: 0.9519\n",
      "Epoch 5/5\n",
      "337917/337917 [==============================] - 230s 680us/step - loss: 0.1030 - acc: 0.9634 - val_loss: 0.1436 - val_acc: 0.9517\n",
      "Train on 337918 samples, validate on 84480 samples\n",
      "Epoch 1/5\n",
      "337918/337918 [==============================] - 234s 692us/step - loss: 0.3120 - acc: 0.8878 - val_loss: 0.1751 - val_acc: 0.9390\n",
      "Epoch 2/5\n",
      "337918/337918 [==============================] - 230s 679us/step - loss: 0.1668 - acc: 0.9417 - val_loss: 0.1481 - val_acc: 0.9490\n",
      "Epoch 3/5\n",
      "337918/337918 [==============================] - 229s 678us/step - loss: 0.1346 - acc: 0.9525 - val_loss: 0.1433 - val_acc: 0.9510\n",
      "Epoch 4/5\n",
      "337918/337918 [==============================] - 239s 707us/step - loss: 0.1159 - acc: 0.9593 - val_loss: 0.1411 - val_acc: 0.9527\n",
      "Epoch 5/5\n",
      "337918/337918 [==============================] - 233s 691us/step - loss: 0.1037 - acc: 0.9632 - val_loss: 0.1422 - val_acc: 0.9528\n",
      "Train on 337918 samples, validate on 84480 samples\n",
      "Epoch 1/5\n",
      "337918/337918 [==============================] - 249s 735us/step - loss: 0.3113 - acc: 0.8883 - val_loss: 0.1721 - val_acc: 0.9408\n",
      "Epoch 2/5\n",
      "337918/337918 [==============================] - 237s 701us/step - loss: 0.1666 - acc: 0.9420 - val_loss: 0.1489 - val_acc: 0.9487\n",
      "Epoch 3/5\n",
      "337918/337918 [==============================] - 249s 736us/step - loss: 0.1336 - acc: 0.9532 - val_loss: 0.1428 - val_acc: 0.9513\n",
      "Epoch 4/5\n",
      "337918/337918 [==============================] - 249s 738us/step - loss: 0.1158 - acc: 0.9590 - val_loss: 0.1403 - val_acc: 0.9531\n",
      "Epoch 5/5\n",
      "337918/337918 [==============================] - 249s 737us/step - loss: 0.1035 - acc: 0.9630 - val_loss: 0.1428 - val_acc: 0.9530\n",
      "Train on 337919 samples, validate on 84479 samples\n",
      "Epoch 1/5\n",
      "337919/337919 [==============================] - 258s 764us/step - loss: 0.3118 - acc: 0.8883 - val_loss: 0.1762 - val_acc: 0.9384\n",
      "Epoch 2/5\n",
      "337919/337919 [==============================] - 241s 713us/step - loss: 0.1676 - acc: 0.9415 - val_loss: 0.1457 - val_acc: 0.9499\n",
      "Epoch 3/5\n",
      "337919/337919 [==============================] - 241s 714us/step - loss: 0.1344 - acc: 0.9530 - val_loss: 0.1396 - val_acc: 0.9526\n",
      "Epoch 4/5\n",
      "337919/337919 [==============================] - 241s 712us/step - loss: 0.1165 - acc: 0.9589 - val_loss: 0.1382 - val_acc: 0.9537\n",
      "Epoch 5/5\n",
      "337919/337919 [==============================] - 241s 713us/step - loss: 0.1035 - acc: 0.9634 - val_loss: 0.1421 - val_acc: 0.9535\n",
      "Train on 337920 samples, validate on 84478 samples\n",
      "Epoch 1/5\n",
      "337920/337920 [==============================] - 245s 725us/step - loss: 0.3107 - acc: 0.8887 - val_loss: 0.1770 - val_acc: 0.9388\n",
      "Epoch 2/5\n",
      "337920/337920 [==============================] - 242s 716us/step - loss: 0.1664 - acc: 0.9418 - val_loss: 0.1523 - val_acc: 0.9470\n",
      "Epoch 3/5\n",
      "337920/337920 [==============================] - 243s 719us/step - loss: 0.1335 - acc: 0.9534 - val_loss: 0.1441 - val_acc: 0.9507\n",
      "Epoch 4/5\n",
      "337920/337920 [==============================] - 245s 725us/step - loss: 0.1158 - acc: 0.9594 - val_loss: 0.1410 - val_acc: 0.9523\n",
      "Epoch 5/5\n",
      "337920/337920 [==============================] - 242s 717us/step - loss: 0.1031 - acc: 0.9638 - val_loss: 0.1459 - val_acc: 0.9515\n",
      "_________________________________________________________________\n",
      "Layer (type)                 Output Shape              Param #   \n",
      "=================================================================\n",
      "embedding_21 (Embedding)     (None, 19, 100)           5000100   \n",
      "_________________________________________________________________\n",
      "lstm_5 (LSTM)                (None, 100)               80400     \n",
      "_________________________________________________________________\n",
      "dense_37 (Dense)             (None, 4)                 404       \n",
      "=================================================================\n",
      "Total params: 5,080,904\n",
      "Trainable params: 5,080,904\n",
      "Non-trainable params: 0\n",
      "_________________________________________________________________\n",
      "[[0.17268906083778215, 0.14845246853999708, 0.1426729697419403, 0.14016610733564389, 0.14361078716407333], [0.175130438732837, 0.14814489760425534, 0.1433367947867902, 0.14108539918445537, 0.14218776903316294], [0.17214334399058398, 0.14888496969272666, 0.14277073786396421, 0.14027548016535796, 0.14284980073549156], [0.17620220253075525, 0.14570896262884306, 0.1395637472838431, 0.13824205180175952, 0.14210147053716982], [0.1769838466823698, 0.15226944419676083, 0.14412464555431861, 0.14095418196706958, 0.1459261563090021]]\n",
      "[[0.9384832092423149, 0.9472899231779927, 0.9499769178868621, 0.9518589978811803, 0.9517287910891207], [0.9389914772727272, 0.9490411931818182, 0.9509943181818182, 0.9527225378787879, 0.9528053977272727], [0.9407907196969697, 0.948733428030303, 0.951266571969697, 0.9530658143939394, 0.9529947916666667], [0.938351542999009, 0.9498810355130379, 0.9526036056192182, 0.9536571218664077, 0.9534558884350659], [0.9387887970931422, 0.9470276285034596, 0.9507090603117944, 0.9523189469066662, 0.9514666540471608]]\n",
      "[0.9517287910891207, 0.9528053977272727, 0.9529947916666667, 0.9534558884456492, 0.9514666540401051]\n"
     ]
    }
   ],
   "source": [
    "#cross validation -- beware lasts long\n",
    "cvscores['LSTM_word2vec'] = []\n",
    "loss_vals['LSTM_word2vec'] = []\n",
    "val_accs['LSTM_word2vec'] = []\n",
    "for train, test in kfold.split(X, Y_reg):\n",
    "  #Turn labels into categorical after the split\n",
    "  encoder = LabelEncoder()\n",
    "  Y = to_categorical(encoder.fit_transform(Y_reg), num_classes=4)\n",
    "  #define the model\n",
    "  model = Sequential()\n",
    "  model.add(Embedding(nb_words, EMBEDDING_DIM, weights=[embedding_matrix], input_length=X.shape[1]))\n",
    "  model.add(LSTM(100, dropout=0.5, recurrent_dropout=0.5))\n",
    "  model.add(Dense(4, activation='softmax'))\n",
    "  model.compile(loss='categorical_crossentropy', optimizer='adam', metrics=['accuracy'])\n",
    "\n",
    "  #fit the model\n",
    "  history = model.fit(X[train], Y[train], validation_data=(X[test], Y[test]), epochs=5, batch_size=128)\n",
    "  #predict\n",
    "  score = model.evaluate(X[test], Y[test], verbose=0)\n",
    "  #store values\n",
    "  loss_vals['LSTM_word2vec'].append(history.history['val_loss'])\n",
    "  val_accs['LSTM_word2vec'].append(history.history['val_acc'])\n",
    "  cvscores['LSTM_word2vec'].append(score[1])\n",
    "  \n",
    "  \n",
    "model.summary()\n",
    "print(loss_vals['LSTM_word2vec'])\n",
    "print(val_accs['LSTM_word2vec'])\n",
    "print(cvscores['LSTM_word2vec'])"
   ]
  },
  {
   "cell_type": "markdown",
   "metadata": {},
   "source": [
    "**Logistic Regression Model**"
   ]
  },
  {
   "cell_type": "code",
   "execution_count": 0,
   "metadata": {
    "colab": {},
    "colab_type": "code",
    "collapsed": true,
    "id": "8AyGlw1oMB8y"
   },
   "outputs": [],
   "source": [
    "#cross validation -- beware lasts long\n",
    "from sklearn.linear_model import LogisticRegression\n",
    "from sklearn.multiclass import OneVsRestClassifier\n",
    "\n",
    "cvscores['logreg'] = []\n",
    "\n",
    "for train, test in kfold.split(x, y):\n",
    "  # Instantiate the classifier: clf\n",
    "  clf = OneVsRestClassifier(LogisticRegression())\n",
    "\n",
    "  # Fit the classifier to the training data\n",
    "  clf.fit(x[train], y[train])\n",
    "\n",
    "  score = clf.score(x[test], y[test])\n",
    "  #store values\n",
    "  cvscores['logreg'].append(score)\n",
    "  "
   ]
  },
  {
   "cell_type": "code",
   "execution_count": 0,
   "metadata": {
    "colab": {
     "base_uri": "https://localhost:8080/",
     "height": 35
    },
    "colab_type": "code",
    "id": "k439alINOlpz",
    "outputId": "dcb2de39-992f-4ff0-ba3a-f519cda08795"
   },
   "outputs": [
    {
     "name": "stdout",
     "output_type": "stream",
     "text": [
      "[0.9473017601590891, 0.9486979166666667, 0.948544034090909, 0.9493957078090413, 0.947761547385118]\n"
     ]
    }
   ],
   "source": [
    "print(cvscores['logreg'])"
   ]
  },
  {
   "cell_type": "markdown",
   "metadata": {
    "colab_type": "text",
    "id": "Ar42bV3kHHeo"
   },
   "source": [
    "**Logistic Regression**"
   ]
  },
  {
   "cell_type": "code",
   "execution_count": 0,
   "metadata": {
    "colab": {},
    "colab_type": "code",
    "collapsed": true,
    "id": "oJPsOk9GGCpv"
   },
   "outputs": [],
   "source": [
    "from sklearn.feature_extraction.text import CountVectorizer\n",
    "from sklearn.preprocessing import LabelEncoder\n",
    "\n",
    "vectorizer = CountVectorizer()\n",
    "x = vectorizer.fit_transform(data['TITLE'])\n",
    "\n",
    "encoder = LabelEncoder()\n",
    "y = encoder.fit_transform(data['CATEGORY'])\n"
   ]
  },
  {
   "cell_type": "code",
   "execution_count": 0,
   "metadata": {
    "colab": {},
    "colab_type": "code",
    "collapsed": true,
    "id": "AqZqEHs7GfW5"
   },
   "outputs": [],
   "source": [
    "x_train, x_test, y_train, y_test = train_test_split(x, y, test_size=0.25,random_state=42 )\n"
   ]
  },
  {
   "cell_type": "code",
   "execution_count": 0,
   "metadata": {
    "colab": {
     "base_uri": "https://localhost:8080/",
     "height": 35
    },
    "colab_type": "code",
    "id": "lzfplHcDGpEW",
    "outputId": "4b8fea70-63df-46a6-b362-389dd0bb2d96"
   },
   "outputs": [
    {
     "name": "stdout",
     "output_type": "stream",
     "text": [
      "Accuracy: 0.9479924242424242\n"
     ]
    }
   ],
   "source": [
    "from sklearn.linear_model import LogisticRegression\n",
    "from sklearn.multiclass import OneVsRestClassifier\n",
    "\n",
    "# Instantiate the classifier: clf\n",
    "clf = OneVsRestClassifier(LogisticRegression())\n",
    "\n",
    "# Fit the classifier to the training data\n",
    "clf.fit(x_train, y_train)\n",
    "\n",
    "# Print the accuracy\n",
    "print(\"Accuracy: {}\".format(clf.score(x_test, y_test)))"
   ]
  },
  {
   "cell_type": "markdown",
   "metadata": {},
   "source": [
    "**Results**"
   ]
  },
  {
   "cell_type": "code",
   "execution_count": 0,
   "metadata": {
    "colab": {},
    "colab_type": "code",
    "collapsed": true,
    "id": "ANqXWnaLGrax"
   },
   "outputs": [],
   "source": [
    "history_CNN_word2vec_val_loss = [0.1587111066868811, 0.15133722459276516, 0.16115968309568637, 0.16717950223521752, 0.18063089211556044]\n",
    "history_CNN_word2vec_val_acc = [0.9453314393939394, 0.9487121212121212, 0.948030303030303, 0.9492140151515152, 0.9490435606060607]\n",
    "\n",
    "history_CNN_LSTM_val_loss = [0.28247254411379497, 0.2680410845622872, 0.2702579854744853, 0.27493210486390374, 0.28611810332897936]\n",
    "history_CNN_LSTM_val_acc = [0.8953125, 0.8998295454545454, 0.9012594696969697, 0.901344696969697, 0.9018371212121212]\n",
    "\n",
    "history_CNN_3layer_val_loss = [0.35368714871428963, 0.3371267047234158, 0.3487432233647846, 0.3656289123737855, 0.39452533953284197]\n",
    "history_CNN_3layer_val_acc = [0.8667155928551982, 0.8727051052899468, 0.8738414554751956, 0.873332465288053, 0.8719948864241663]\n",
    "\n",
    "history_Single_CNN_val_loss = [0.15731332917880936, 0.15148974031593054, 0.15572377686387678, 0.1664767163392361, 0.17954764702235193]\n",
    "history_Single_CNN_val_acc = [0.9450882446940733, 0.9480830009114476, 0.9480238160059659, 0.9490773073235402, 0.9493258839265634]\n",
    "\n",
    "history_LSTM_val_loss = [0.15859352911512056, 0.15335268914699554, 0.14943012169364728, 0.14954469836571, 0.15515696221228803]\n",
    "history_LSTM_val_acc = [0.9454640151515151, 0.9483522727272727, 0.9493276515151515, 0.9504545454545454, 0.9496969696969697]\n",
    "\n",
    "history_LSTM_word2vec_val_loss = [0.1762299826063893, 0.14923600926543726, 0.14579209104631885, 0.1416051029165586, 0.14266072286800904]\n",
    "history_LSTM_word2vec_val_acc = [0.9381628787878787, 0.9485606060606061, 0.949592803030303, 0.9520170454545455, 0.9524242424242424]\n",
    "clf_log_reg_val_acc = [0.9479924242424242]*len(history_CNN_word2vec_val_loss)"
   ]
  },
  {
   "cell_type": "code",
   "execution_count": 0,
   "metadata": {
    "colab": {
     "base_uri": "https://localhost:8080/",
     "height": 394
    },
    "colab_type": "code",
    "id": "ORCQNsLviomP",
    "outputId": "ed056caf-aa1b-472f-bea2-4c0ae7fd93df"
   },
   "outputs": [
    {
     "data": {
      "text/plain": [
       "<matplotlib.legend.Legend at 0x7f0acd52abe0>"
      ]
     },
     "execution_count": 100,
     "metadata": {
      "tags": []
     },
     "output_type": "execute_result"
    },
    {
     "data": {
      "image/png": "[encoded data removed]",
      "text/plain": [
       "<matplotlib.figure.Figure at 0x7f0acd5447b8>"
      ]
     },
     "metadata": {
      "tags": []
     },
     "output_type": "display_data"
    }
   ],
   "source": [
    "plt.plot(history_CNN_word2vec_val_acc, label='CNN_word2vec')\n",
    "plt.plot(history_CNN_LSTM_val_acc, label='CNN_LSTM')\n",
    "plt.plot(history_CNN_3layer_val_acc, label='CNN_3layer')\n",
    "plt.plot(history_Single_CNN_val_acc, label = 'Single_Layer_CNN')\n",
    "plt.plot(history_LSTM_val_acc, label='LSTM')\n",
    "plt.plot(history_LSTM_word2vec.history['val_acc'], label='LSTM_word2vec')\n",
    "plt.plot(clf_log_reg_val_acc, 'b--',label='Logistic Regression')\n",
    "plt.xlabel('Epochs')\n",
    "plt.ylabel('Accuracy')\n",
    "plt.title('Validation Accuracy')\n",
    "plt.legend(bbox_to_anchor=(1.05, 1))"
   ]
  },
  {
   "cell_type": "code",
   "execution_count": 0,
   "metadata": {
    "colab": {
     "base_uri": "https://localhost:8080/",
     "height": 394
    },
    "colab_type": "code",
    "id": "ibt2O23yj62t",
    "outputId": "46dd753b-e53a-49c9-e5e8-e8e09a97150c"
   },
   "outputs": [
    {
     "data": {
      "text/plain": [
       "<matplotlib.legend.Legend at 0x7f0acd607cf8>"
      ]
     },
     "execution_count": 98,
     "metadata": {
      "tags": []
     },
     "output_type": "execute_result"
    },
    {
     "data": {
      "image/png": "[encoded data removed]",
      "text/plain": [
       "<matplotlib.figure.Figure at 0x7f0acd69dcc0>"
      ]
     },
     "metadata": {
      "tags": []
     },
     "output_type": "display_data"
    }
   ],
   "source": [
    "plt.plot(history_CNN_word2vec_val_acc, label='CNN_word2vec')\n",
    "plt.plot(history_Single_CNN_val_acc, label = 'Single_Layer_CNN')\n",
    "plt.plot(history_LSTM_val_acc, label='LSTM')\n",
    "plt.plot(history_LSTM_word2vec.history['val_acc'], label='LSTM_word2vec')\n",
    "plt.plot(clf_log_reg_val_acc, 'b--', label='Logistic Regression')\n",
    "plt.xlabel('Epochs')\n",
    "plt.ylabel('Accuracy')\n",
    "plt.title('Validation Accuracy')\n",
    "plt.legend(bbox_to_anchor=(1.05, 1))"
   ]
  },
  {
   "cell_type": "code",
   "execution_count": 0,
   "metadata": {
    "colab": {},
    "colab_type": "code",
    "collapsed": true,
    "id": "d8yhnuCckXoP"
   },
   "outputs": [],
   "source": [
    "CNN_loss_CV = [[0.15867806600576956, 0.14844797611249977, 0.15340359469481055, 0.16712614287943414, 0.18203254485370618], [0.15457466403974898, 0.1469816956351596, 0.1564381671989064, 0.16329594736342903, 0.1733254220785029], [0.15400105525217386, 0.14825693263626433, 0.15385158227432066, 0.1661647267563019, 0.17958800006807987], [0.15405112911323945, 0.15073442152630664, 0.1536739381247447, 0.16592135551771553, 0.17623133139170644], [0.16017609305709607, 0.15040611022822137, 0.15602541653928315, 0.16926218657580067, 0.17924487900589767]]\n",
    "CNN_acc_CV = [[0.9452894733727111, 0.9488879156259987, 0.9485209692120121, 0.9493969058131414, 0.9479764680815804], [0.9466619318181818, 0.9496330492424242, 0.9491358901515151, 0.9489701704545455, 0.9501302083333333], [0.9470999053030303, 0.9505089962121213, 0.9514441287878788, 0.9502604166666667, 0.9511008522727272], [0.947442559667518, 0.9510647616348709, 0.9511594597255206, 0.951561926622071, 0.9508753654705047], [0.9447311725777098, 0.949229385171013, 0.9499751414202581, 0.9488861004851127, 0.9488150760763909]]\n",
    "CNN_scores_CV = [0.9479764680815804, 0.9501302083333333, 0.9511008522727272, 0.9508753654754436, 0.9488150761144913]"
   ]
  },
  {
   "cell_type": "code",
   "execution_count": 0,
   "metadata": {
    "colab": {},
    "colab_type": "code",
    "collapsed": true,
    "id": "7JJdGimNynIQ"
   },
   "outputs": [],
   "source": [
    "CNN_word2vec_loss_CV = [[0.17704728049277818, 0.1525951267527684, 0.15108784102531808, 0.1521006426402951, 0.15829219107979595], [0.17577238070362275, 0.1550740585697702, 0.1513036854181943, 0.1522090039083692, 0.15810197757214844], [0.17777795472259944, 0.15177121792486023, 0.14879456962393525, 0.14942425203031842, 0.15586661768148505], [0.1734880853765939, 0.15426567268706862, 0.1509998105082279, 0.1489602541112557, 0.15491613911195135], [0.17948960968265226, 0.1564334557379378, 0.1513976090452053, 0.1528747393243743, 0.1581259225512468]]\n",
    "CNN_word2vec_acc_CV = [[0.9392289390513844, 0.9470768575182585, 0.9484972952498195, 0.9501307986411146, 0.949728341283839], [0.9403645833333333, 0.9477272727272728, 0.9504734848484848, 0.9504379734848485, 0.949609375], [0.9383522727272727, 0.948638731060606, 0.95, 0.9511482007575758, 0.95078125], [0.940766344316222, 0.9470164182934608, 0.9507569928684814, 0.9515027403267037, 0.9512778323444773], [0.9383034636349543, 0.9465896446031079, 0.9490636615520732, 0.9499514666610958, 0.9492293851724242]]\n",
    "CNN_word2vec_scores_CV = [0.949728341283839, 0.949609375, 0.95078125, 0.9512778323607051, 0.9492293851653685]"
   ]
  },
  {
   "cell_type": "code",
   "execution_count": 0,
   "metadata": {
    "colab": {},
    "colab_type": "code",
    "collapsed": true,
    "id": "OeuuqVK0y7pV"
   },
   "outputs": [],
   "source": [
    "log_reg_scores_CV = [0.9473017601590891, 0.9486979166666667, 0.948544034090909, 0.9493957078090413, 0.947761547385118]"
   ]
  },
  {
   "cell_type": "code",
   "execution_count": 0,
   "metadata": {
    "colab": {},
    "colab_type": "code",
    "collapsed": true,
    "id": "jIMmfYF63Yt2"
   },
   "outputs": [],
   "source": [
    "LSTM_word2vec_loss_CV = [[0.17268906083778215, 0.14845246853999708, 0.1426729697419403, 0.14016610733564389, 0.14361078716407333], [0.175130438732837, 0.14814489760425534, 0.1433367947867902, 0.14108539918445537, 0.14218776903316294], [0.17214334399058398, 0.14888496969272666, 0.14277073786396421, 0.14027548016535796, 0.14284980073549156], [0.17620220253075525, 0.14570896262884306, 0.1395637472838431, 0.13824205180175952, 0.14210147053716982], [0.1769838466823698, 0.15226944419676083, 0.14412464555431861, 0.14095418196706958, 0.1459261563090021]]\n",
    "LSTM_word2vec_acc_CV = [[0.9384832092423149, 0.9472899231779927, 0.9499769178868621, 0.9518589978811803, 0.9517287910891207], [0.9389914772727272, 0.9490411931818182, 0.9509943181818182, 0.9527225378787879, 0.9528053977272727], [0.9407907196969697, 0.948733428030303, 0.951266571969697, 0.9530658143939394, 0.9529947916666667], [0.938351542999009, 0.9498810355130379, 0.9526036056192182, 0.9536571218664077, 0.9534558884350659], [0.9387887970931422, 0.9470276285034596, 0.9507090603117944, 0.9523189469066662, 0.9514666540471608]]\n",
    "LSTM_word2vec_scores_CV = [0.9517287910891207, 0.9528053977272727, 0.9529947916666667, 0.9534558884456492, 0.9514666540401051]"
   ]
  },
  {
   "cell_type": "code",
   "execution_count": 0,
   "metadata": {
    "colab": {},
    "colab_type": "code",
    "collapsed": true,
    "id": "YPWZxOKiQSfd"
   },
   "outputs": [],
   "source": [
    "LSTM_loss_CV =[[0.16117385692275216, 0.15197119348849267, 0.14916572238181394, 0.1564679163555833, 0.16007379673761288], [0.15635200361615387, 0.14863930507527778, 0.1477008312265036, 0.14886366958572497, 0.15271029192323718], [0.15609896244855145, 0.14828444151454745, 0.1469578200986496, 0.14815039728577672, 0.15252177529813102], [0.15645131507684287, 0.14652716570869578, 0.1453860584281735, 0.14772775466647298, 0.15119483506998868], [0.15608781717869166, 0.14665044909591615, 0.14648430722915623, 0.151132461734081, 0.1558070011534307]]\n",
    "LSTM_acc_CV =[[0.9444727216770635, 0.9483670884577597, 0.9490299593991548, 0.9488050567583244, 0.9487813827961317], [0.9462121212121212, 0.9484848484848485, 0.9493844696969697, 0.9506510416666667, 0.950875946969697], [0.946188446969697, 0.948922821969697, 0.9502604166666667, 0.9508641098484848, 0.9506155303030303], [0.9456551332177929, 0.9485670994939838, 0.9495614294345173, 0.9506741319996518, 0.9506267829599714], [0.9459385875259804, 0.9483179052590833, 0.9500580032741784, 0.9505433367323662, 0.9503302634638671]]\n",
    "LSTM_scores_CV =[0.9487813827961317, 0.950875946969697, 0.9506155303030303, 0.9506267829769047, 0.9503302635019675]"
   ]
  },
  {
   "cell_type": "code",
   "execution_count": 0,
   "metadata": {
    "colab": {
     "base_uri": "https://localhost:8080/",
     "height": 104
    },
    "colab_type": "code",
    "id": "LYexJ6hhQc3r",
    "outputId": "387d907f-b447-4a13-a6b7-82c900b2f212"
   },
   "outputs": [
    {
     "name": "stdout",
     "output_type": "stream",
     "text": [
      "LSTM word2vec vs. LogReg: RanksumsResult(statistic=2.6111648393354674, pvalue=0.009023438818080326)\n",
      "LSTM vs. LogReg: RanksumsResult(statistic=2.40227165218863, pvalue=0.016293603621028527)\n",
      "CNN vs. LogReg: RanksumsResult(statistic=1.775592090748118, pvalue=0.07580017458236125)\n",
      "CNN word2vec vs. LogReg: RanksumsResult(statistic=2.40227165218863, pvalue=0.016293603621028527)\n",
      "LSTM word2vec vs. CNN word2vec: RanksumsResult(statistic=2.6111648393354674, pvalue=0.009023438818080326)\n"
     ]
    }
   ],
   "source": [
    "from scipy.stats import ranksums\n",
    "print('LSTM word2vec vs. LogReg:', ranksums(LSTM_word2vec_scores_CV, log_reg_scores_CV))\n",
    "print('LSTM vs. LogReg:', ranksums(LSTM_scores_CV, log_reg_scores_CV))\n",
    "print('CNN vs. LogReg:', ranksums(CNN_scores_CV, log_reg_scores_CV))\n",
    "print('CNN word2vec vs. LogReg:', ranksums(CNN_word2vec_scores_CV, log_reg_scores_CV))\n",
    "\n",
    "print('LSTM word2vec vs. CNN word2vec:', ranksums(LSTM_word2vec_scores_CV, CNN_word2vec_scores_CV))\n"
   ]
  },
  {
   "cell_type": "code",
   "execution_count": 0,
   "metadata": {
    "colab": {
     "base_uri": "https://localhost:8080/",
     "height": 361
    },
    "colab_type": "code",
    "id": "owPj5sT0VRdd",
    "outputId": "d26e9e0e-2473-4909-c8d2-3a3dc190fda8"
   },
   "outputs": [
    {
     "data": {
      "image/png": "[encoded data removed]",
      "text/plain": [
       "<matplotlib.figure.Figure at 0x7fb994885c50>"
      ]
     },
     "metadata": {
      "tags": []
     },
     "output_type": "display_data"
    }
   ],
   "source": [
    "plt.plot(np.arange(1, 6),np.mean(CNN_word2vec_acc_CV, axis=0), '*-', label='CNN_word2vec')\n",
    "plt.plot(np.arange(1, 6),np.mean(CNN_acc_CV, axis=0), 'o-',label = 'Single_Layer_CNN')\n",
    "plt.plot(np.arange(1, 6), np.mean(LSTM_acc_CV, axis=0), 'v-',label='LSTM')\n",
    "plt.plot(np.arange(1, 6),np.mean(LSTM_word2vec_acc_CV, axis=0), 's-', label='LSTM_word2vec')\n",
    "plt.plot(np.arange(1, 6),[np.mean(log_reg_scores_CV)]*5, 'b--', label='Logistic Regression')\n",
    "plt.xlabel('Epochs')\n",
    "plt.ylabel('Accuracy')\n",
    "plt.legend(bbox_to_anchor=(1.05, 1))\n",
    "plt.xticks([1, 2, 3, 4, 5])\n",
    "plt.savefig('Validation Accuracy 5-Fold CV')"
   ]
  },
  {
   "cell_type": "code",
   "execution_count": 0,
   "metadata": {
    "colab": {
     "base_uri": "https://localhost:8080/",
     "height": 365
    },
    "colab_type": "code",
    "id": "HjUTuWlYX9oz",
    "outputId": "17b5db4f-75f3-441d-daee-65a687535d8a"
   },
   "outputs": [
    {
     "data": {
      "image/png": "[encoded data removed]",
      "text/plain": [
       "<matplotlib.figure.Figure at 0x7fb994908b00>"
      ]
     },
     "metadata": {
      "tags": []
     },
     "output_type": "display_data"
    }
   ],
   "source": [
    "plt.plot(np.arange(1, 6),np.mean(CNN_word2vec_loss_CV, axis=0), '*-', label='CNN_word2vec')\n",
    "plt.plot(np.arange(1, 6),np.mean(CNN_loss_CV, axis=0), 'o-', label = 'Single_Layer_CNN')\n",
    "plt.plot(np.arange(1, 6),np.mean(LSTM_loss_CV, axis=0),'v-', label='LSTM')\n",
    "plt.plot(np.arange(1, 6),np.mean(LSTM_word2vec_loss_CV, axis=0),'s-', label='LSTM_word2vec')\n",
    "plt.xlabel('Epochs')\n",
    "plt.ylabel('Loss')\n",
    "plt.legend(bbox_to_anchor=(1.05, 1))\n",
    "plt.xticks([1, 2, 3, 4, 5])\n",
    "plt.savefig('Validation Loss 5-Fold CV')"
   ]
  },
  {
   "cell_type": "code",
   "execution_count": 0,
   "metadata": {
    "colab": {},
    "colab_type": "code",
    "collapsed": true,
    "id": "SOfQHlLAWCNP"
   },
   "outputs": [],
   "source": []
  }
 ],
 "metadata": {
  "accelerator": "GPU",
  "colab": {
   "name": "ErensCopy.ipynb",
   "provenance": [],
   "version": "0.3.2"
  },
  "kernelspec": {
   "display_name": "Python 3",
   "language": "python",
   "name": "python3"
  },
  "language_info": {
   "codemirror_mode": {
    "name": "ipython",
    "version": 3
   },
   "file_extension": ".py",
   "mimetype": "text/x-python",
   "name": "python",
   "nbconvert_exporter": "python",
   "pygments_lexer": "ipython3",
   "version": "3.6.1"
  }
 },
 "nbformat": 4,
 "nbformat_minor": 1
}
